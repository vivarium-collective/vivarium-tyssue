{
 "cells": [
  {
   "cell_type": "code",
   "metadata": {
    "ExecuteTime": {
     "end_time": "2025-07-09T15:38:22.848216Z",
     "start_time": "2025-07-09T15:38:21.407325Z"
    }
   },
   "source": [
    "import sys\n",
    "import pandas as pd\n",
    "import numpy as np\n",
    "import json\n",
    "import matplotlib.pylab as plt\n",
    "import matplotlib as mpl\n",
    "import ipyvolume as ipv\n",
    "%matplotlib inline\n",
    "\n",
    "from scipy import optimize\n",
    "\n",
    "from sympy import Point, Point3D, Line, Line3D, Plane\n",
    "\n",
    "from tyssue import Sheet, config, History, SheetGeometry\n",
    "from tyssue.geometry.sheet_geometry import ClosedSheetGeometry\n",
    "from tyssue.generation.hexagonal_grids import hexa_cylinder\n",
    "from tyssue.generation.shapes import sheet_from_cell_centers\n",
    "\n",
    "from tyssue.dynamics import effectors, model_factory\n",
    "from tyssue.dynamics import SheetModel as model\n",
    "from tyssue.utils.utils import _to_3d, to_nd\n",
    "from tyssue.draw.plt_draw import plot_forces\n",
    "from tyssue.behaviors import EventManager\n",
    "from tyssue.topology.sheet_topology import cell_division\n",
    "from tyssue.solvers.viscous import EulerSolver\n",
    "from tyssue.solvers.quasistatic import QSSolver\n",
    "from tyssue.draw.ipv_draw import sheet_view,view_ipv\n",
    "from tyssue.io import hdf5\n",
    "from tyssue.dynamics.sheet_gradients import height_grad\n",
    "from tyssue.dynamics import units, effectors, model_factory"
   ],
   "outputs": [
    {
     "name": "stdout",
     "output_type": "stream",
     "text": [
      "C++ extensions are not available for this version\n",
      "collision solver could not be imported You may need to install CGAL and re-install tyssue\n"
     ]
    }
   ],
   "execution_count": 1
  },
  {
   "cell_type": "code",
   "execution_count": 2,
   "metadata": {},
   "outputs": [],
   "source": [
    "#generate cylindrical tissue \n",
    "points_xyz = hexa_cylinder(10,15, radius = 16, noise = 0.0, capped = True)\n",
    "sheet = sheet_from_cell_centers(points_xyz)\n",
    "ClosedSheetGeometry.update_all(sheet)\n"
   ]
  },
  {
   "cell_type": "code",
   "execution_count": 3,
   "metadata": {},
   "outputs": [],
   "source": [
    "#get alignment of edges as CW, CCW, vertical or horizontal - take edge dataframe as argument\n",
    "def get_edge_alignments_3Dcylinder(edge_df):\n",
    "    edge_df['alignment'] = \"np.nan\"    \n",
    "    def moment_of_edge_xy(row):\n",
    "        \n",
    "        if row[\"sz\"] > row [\"tz\"]:\n",
    "            vertmaxproj = [row[\"sx\"], row[\"sy\"], 0]\n",
    "            vertminproj = [row[\"tx\"],row[\"ty\"], 0]\n",
    "            vertxyproj = np.subtract(vertmaxproj, vertminproj)\n",
    "            moment = np.cross(vertminproj,vertxyproj)\n",
    "        elif row[\"sz\"] < row [\"tz\"]:\n",
    "            vertminproj = [row[\"sx\"], row[\"sy\"], 0]\n",
    "            vertmaxproj = [row[\"tx\"],row[\"ty\"], 0]\n",
    "            vertxyproj = np.subtract(vertmaxproj, vertminproj)\n",
    "            moment = np.cross(vertminproj,vertxyproj)\n",
    "        elif row[\"sz\"] == row [\"tz\"]:\n",
    "            moment = None\n",
    "        try:\n",
    "            if moment[-1] > 0: \n",
    "                alignment = \"CCW\"\n",
    "            elif moment[-1] < 0:\n",
    "                alignment = \"CW\"\n",
    "            elif moment[-1] == 0:\n",
    "                alignment = \"Vertical\"\n",
    "            else: alignment = \"Horizontal\"\n",
    "            return alignment\n",
    "        except:\n",
    "            return None\n",
    "    edge_df['alignment'] = edge_df.apply(moment_of_edge_xy, axis=1)"
   ]
  },
  {
   "cell_type": "code",
   "execution_count": 4,
   "metadata": {},
   "outputs": [],
   "source": [
    "# deactivates all vertices and associated edges within 15 points of the caps at either end of the culindrical tissue\n",
    "def deactivate_cap_vertices(sheet):\n",
    "    sheet.vert_df['is_active'] = 1    \n",
    "    max_z = max(sheet.vert_df[\"z\"]) - 10\n",
    "    min_z = min(sheet.vert_df[\"z\"]) + 10\n",
    "    def turn_off_cap_vertices(row):\n",
    "        try:\n",
    "            if row[\"z\"] > max_z or row[\"z\"] < min_z:\n",
    "                is_active = 0\n",
    "            else:\n",
    "                is_active = 1\n",
    "            return is_active\n",
    "        except:\n",
    "            return None\n",
    "    sheet.vert_df['is_active'] = sheet.vert_df.apply(turn_off_cap_vertices, axis=1)\n",
    "    sheet.edge_df['is_active'] = sheet.upcast_srce('is_active') * sheet.upcast_trgt('is_active')"
   ]
  },
  {
   "cell_type": "code",
   "execution_count": 5,
   "metadata": {},
   "outputs": [
    {
     "data": {
      "text/plain": [
       "(486, 474, 0, 0)"
      ]
     },
     "execution_count": 5,
     "metadata": {},
     "output_type": "execute_result"
    }
   ],
   "source": [
    "# call functions above and quantify the alignments\n",
    "deactivate_cap_vertices(sheet)\n",
    "get_edge_alignments_3Dcylinder(sheet.edge_df)\n",
    "ccw_count = sheet.edge_df.loc[sheet.edge_df.alignment == 'CCW', 'alignment'].count()\n",
    "cw_count = sheet.edge_df.loc[sheet.edge_df.alignment == 'CW', 'alignment'].count()\n",
    "verti_count = sheet.edge_df.loc[sheet.edge_df.alignment == 'Vertical', 'alignment'].count()\n",
    "hor_count = sheet.edge_df.loc[sheet.edge_df.alignment == 'Horizontal', 'alignment'].count()\n",
    "cw_count, ccw_count, verti_count, hor_count"
   ]
  },
  {
   "cell_type": "code",
   "execution_count": 6,
   "metadata": {},
   "outputs": [
    {
     "data": {
      "text/html": [
       "<div>\n",
       "<style scoped>\n",
       "    .dataframe tbody tr th:only-of-type {\n",
       "        vertical-align: middle;\n",
       "    }\n",
       "\n",
       "    .dataframe tbody tr th {\n",
       "        vertical-align: top;\n",
       "    }\n",
       "\n",
       "    .dataframe thead th {\n",
       "        text-align: right;\n",
       "    }\n",
       "</style>\n",
       "<table border=\"1\" class=\"dataframe\">\n",
       "  <thead>\n",
       "    <tr style=\"text-align: right;\">\n",
       "      <th></th>\n",
       "      <th>x</th>\n",
       "      <th>y</th>\n",
       "      <th>z</th>\n",
       "      <th>is_active</th>\n",
       "      <th>rho</th>\n",
       "      <th>height</th>\n",
       "      <th>basal_shift</th>\n",
       "      <th>srce_o</th>\n",
       "    </tr>\n",
       "    <tr>\n",
       "      <th>vert</th>\n",
       "      <th></th>\n",
       "      <th></th>\n",
       "      <th></th>\n",
       "      <th></th>\n",
       "      <th></th>\n",
       "      <th></th>\n",
       "      <th></th>\n",
       "      <th></th>\n",
       "    </tr>\n",
       "  </thead>\n",
       "  <tbody>\n",
       "    <tr>\n",
       "      <td>0</td>\n",
       "      <td>15.996778</td>\n",
       "      <td>1.597978</td>\n",
       "      <td>-2.511932</td>\n",
       "      <td>1</td>\n",
       "      <td>16.076394</td>\n",
       "      <td>12.076394</td>\n",
       "      <td>4.0</td>\n",
       "      <td>0</td>\n",
       "    </tr>\n",
       "    <tr>\n",
       "      <td>1</td>\n",
       "      <td>13.925888</td>\n",
       "      <td>7.332317</td>\n",
       "      <td>-2.506519</td>\n",
       "      <td>1</td>\n",
       "      <td>15.738273</td>\n",
       "      <td>11.738273</td>\n",
       "      <td>4.0</td>\n",
       "      <td>1</td>\n",
       "    </tr>\n",
       "    <tr>\n",
       "      <td>2</td>\n",
       "      <td>12.561179</td>\n",
       "      <td>0.094327</td>\n",
       "      <td>-76.483230</td>\n",
       "      <td>0</td>\n",
       "      <td>12.561533</td>\n",
       "      <td>8.561533</td>\n",
       "      <td>4.0</td>\n",
       "      <td>2</td>\n",
       "    </tr>\n",
       "    <tr>\n",
       "      <td>3</td>\n",
       "      <td>-3.259344</td>\n",
       "      <td>14.280430</td>\n",
       "      <td>-42.327293</td>\n",
       "      <td>1</td>\n",
       "      <td>14.647662</td>\n",
       "      <td>10.647662</td>\n",
       "      <td>4.0</td>\n",
       "      <td>3</td>\n",
       "    </tr>\n",
       "    <tr>\n",
       "      <td>4</td>\n",
       "      <td>3.258822</td>\n",
       "      <td>14.279769</td>\n",
       "      <td>-42.325030</td>\n",
       "      <td>1</td>\n",
       "      <td>14.646902</td>\n",
       "      <td>10.646902</td>\n",
       "      <td>4.0</td>\n",
       "      <td>4</td>\n",
       "    </tr>\n",
       "    <tr>\n",
       "      <td>...</td>\n",
       "      <td>...</td>\n",
       "      <td>...</td>\n",
       "      <td>...</td>\n",
       "      <td>...</td>\n",
       "      <td>...</td>\n",
       "      <td>...</td>\n",
       "      <td>...</td>\n",
       "      <td>...</td>\n",
       "    </tr>\n",
       "    <tr>\n",
       "      <td>315</td>\n",
       "      <td>-15.985126</td>\n",
       "      <td>-1.594738</td>\n",
       "      <td>-47.780728</td>\n",
       "      <td>1</td>\n",
       "      <td>16.064478</td>\n",
       "      <td>12.064478</td>\n",
       "      <td>4.0</td>\n",
       "      <td>315</td>\n",
       "    </tr>\n",
       "    <tr>\n",
       "      <td>316</td>\n",
       "      <td>-15.981238</td>\n",
       "      <td>1.590289</td>\n",
       "      <td>-52.807825</td>\n",
       "      <td>1</td>\n",
       "      <td>16.060167</td>\n",
       "      <td>12.060167</td>\n",
       "      <td>4.0</td>\n",
       "      <td>316</td>\n",
       "    </tr>\n",
       "    <tr>\n",
       "      <td>317</td>\n",
       "      <td>-13.907747</td>\n",
       "      <td>7.317485</td>\n",
       "      <td>-42.622296</td>\n",
       "      <td>1</td>\n",
       "      <td>15.715312</td>\n",
       "      <td>11.715312</td>\n",
       "      <td>4.0</td>\n",
       "      <td>317</td>\n",
       "    </tr>\n",
       "    <tr>\n",
       "      <td>318</td>\n",
       "      <td>-11.847311</td>\n",
       "      <td>9.858098</td>\n",
       "      <td>-47.565809</td>\n",
       "      <td>1</td>\n",
       "      <td>15.412361</td>\n",
       "      <td>11.412361</td>\n",
       "      <td>4.0</td>\n",
       "      <td>318</td>\n",
       "    </tr>\n",
       "    <tr>\n",
       "      <td>319</td>\n",
       "      <td>-13.911340</td>\n",
       "      <td>7.317387</td>\n",
       "      <td>-52.686284</td>\n",
       "      <td>1</td>\n",
       "      <td>15.718445</td>\n",
       "      <td>11.718445</td>\n",
       "      <td>4.0</td>\n",
       "      <td>319</td>\n",
       "    </tr>\n",
       "  </tbody>\n",
       "</table>\n",
       "<p>320 rows × 8 columns</p>\n",
       "</div>"
      ],
      "text/plain": [
       "              x          y          z  is_active        rho     height  \\\n",
       "vert                                                                     \n",
       "0     15.996778   1.597978  -2.511932          1  16.076394  12.076394   \n",
       "1     13.925888   7.332317  -2.506519          1  15.738273  11.738273   \n",
       "2     12.561179   0.094327 -76.483230          0  12.561533   8.561533   \n",
       "3     -3.259344  14.280430 -42.327293          1  14.647662  10.647662   \n",
       "4      3.258822  14.279769 -42.325030          1  14.646902  10.646902   \n",
       "...         ...        ...        ...        ...        ...        ...   \n",
       "315  -15.985126  -1.594738 -47.780728          1  16.064478  12.064478   \n",
       "316  -15.981238   1.590289 -52.807825          1  16.060167  12.060167   \n",
       "317  -13.907747   7.317485 -42.622296          1  15.715312  11.715312   \n",
       "318  -11.847311   9.858098 -47.565809          1  15.412361  11.412361   \n",
       "319  -13.911340   7.317387 -52.686284          1  15.718445  11.718445   \n",
       "\n",
       "      basal_shift  srce_o  \n",
       "vert                       \n",
       "0             4.0       0  \n",
       "1             4.0       1  \n",
       "2             4.0       2  \n",
       "3             4.0       3  \n",
       "4             4.0       4  \n",
       "...           ...     ...  \n",
       "315           4.0     315  \n",
       "316           4.0     316  \n",
       "317           4.0     317  \n",
       "318           4.0     318  \n",
       "319           4.0     319  \n",
       "\n",
       "[320 rows x 8 columns]"
      ]
     },
     "execution_count": 6,
     "metadata": {},
     "output_type": "execute_result"
    }
   ],
   "source": [
    "sheet.vert_df"
   ]
  },
  {
   "cell_type": "code",
   "execution_count": 7,
   "metadata": {},
   "outputs": [
    {
     "data": {
      "text/plain": [
       "(76.72548263558295, -76.9581237983668)"
      ]
     },
     "execution_count": 7,
     "metadata": {},
     "output_type": "execute_result"
    }
   ],
   "source": [
    "max(sheet.vert_df[\"z\"]), min(sheet.vert_df[\"z\"])"
   ]
  },
  {
   "cell_type": "code",
   "execution_count": 8,
   "metadata": {},
   "outputs": [
    {
     "name": "stderr",
     "output_type": "stream",
     "text": [
      "C:\\ProgramData\\Anaconda3\\lib\\site-packages\\numpy\\core\\fromnumeric.py:2389: FutureWarning: Method .ptp is deprecated and will be removed in a future version. Use numpy.ptp instead.\n",
      "  return ptp(axis=axis, out=out, **kwargs)\n"
     ]
    },
    {
     "data": {
      "application/vnd.jupyter.widget-view+json": {
       "model_id": "5f73c602019f409b8ff0dd87e89974ab",
       "version_major": 2,
       "version_minor": 0
      },
      "text/plain": [
       "Figure(camera=PerspectiveCamera(fov=45.0, position=(0.0, 0.0, 2.0), quaternion=(0.0, 0.0, 0.0, 1.0), scale=(1.…"
      ]
     },
     "metadata": {},
     "output_type": "display_data"
    }
   ],
   "source": [
    "#display generated tissue\n",
    "ipv.clear()\n",
    "fig, mesh = sheet_view(sheet, sheet.coords, mode = '3D')\n",
    "ipv.pylab.xyzlabel(\"x-axis\", \"y-axis\", \"z-axis\")\n",
    "ipv.pylab.style.axes_on()\n",
    "fig"
   ]
  },
  {
   "cell_type": "code",
   "execution_count": 14,
   "metadata": {},
   "outputs": [],
   "source": [
    "# def get_drho_plane(eptm):\n",
    "#         delta_rho_plane = []\n",
    "#         px, py, pz = [], [], []\n",
    "#         for vert in eptm.vert_df.index.values.tolist():\n",
    "#             neighbors = eptm.edge_df.loc[eptm.edge_df.srce == vert, ['tx','ty','tz']].values\n",
    "#             x, y, z = (eptm.vert_df.loc[vert, ['x','y','z']].values.tolist())\n",
    "#             x1 = neighbors[0][0]\n",
    "#             x2 = neighbors[1][0]\n",
    "#             x3 = neighbors[2][0]\n",
    "#             y1 = neighbors[0][1]\n",
    "#             y2 = neighbors[1][1] \n",
    "#             y3 = neighbors[2][1]\n",
    "#             z1 = neighbors[0][2] \n",
    "#             z2 = neighbors[1][2] \n",
    "#             z3 = neighbors[2][2]\n",
    "#             p1 = Point3D(x1, y1, z1)\n",
    "#             p2 = Point3D(x2, y2, z2)\n",
    "#             p3 = Point3D(x3, y3, z3)\n",
    "#             p_vert = Point3D(x, y, z)\n",
    "#             plane = Plane(p1, p2, p3)\n",
    "#             delta_rho = float(plane.distance(p_vert))\n",
    "#             delta_rho_plane.append(delta_rho)\n",
    "#             projected_vert = plane.projection(p_vert)\n",
    "#             prx, pry, prz = float(projected_vert.x), float(projected_vert.y), float(projected_vert.z)\n",
    "#             prx, pry, prz = float(prx - x), float(pry-y, prz-z\n",
    "#             prx, pry, prz = prx/(prx**2 + pry**2 + prz**2), pry/(prx**2 + pry**2 + prz**2), prz/(prx**2 + pry**2 + prz**2)\n",
    "#             px.append(prx), py.append(pry), pz.append(prz)\n",
    "#         eptm.vert_df[\"delta_rho_plane\"] = delta_rho_plane\n",
    "#         eptm.vert_df[\"px\"] = px\n",
    "#         eptm.vert_df[\"py\"] = py\n",
    "#         eptm.vert_df[\"pz\"] = pz"
   ]
  },
  {
   "cell_type": "code",
   "execution_count": 15,
   "metadata": {},
   "outputs": [],
   "source": [
    "# get_drho_plane(sheet)"
   ]
  },
  {
   "cell_type": "code",
   "execution_count": 19,
   "metadata": {},
   "outputs": [
    {
     "data": {
      "text/plain": [
       "vert\n",
       "0     -1.340611\n",
       "1     -1.241041\n",
       "2      0.091897\n",
       "3      0.153257\n",
       "4     -0.153578\n",
       "         ...   \n",
       "315    1.345755\n",
       "316    1.354270\n",
       "317    1.254722\n",
       "318    0.948720\n",
       "319    1.257205\n",
       "Name: px, Length: 320, dtype: float64"
      ]
     },
     "execution_count": 19,
     "metadata": {},
     "output_type": "execute_result"
    }
   ],
   "source": [
    "# sheet.vert_df[\"px\"]"
   ]
  },
  {
   "cell_type": "code",
   "execution_count": 9,
   "metadata": {},
   "outputs": [],
   "source": [
    "class PlaneDeviationElasticity(effectors.AbstractEffector):\n",
    "    \n",
    "    dimensions = units.line_elasticity\n",
    "    magnitude = 'plane_K'\n",
    "    label = \"Plane Deviation elasticity\"\n",
    "    element = 'vert'\n",
    "    specs = {\n",
    "        \"vert\": {\n",
    "            'plane_K': 1.0,\n",
    "            'is_active': 1.0,\n",
    "            'delta_rho_plane': 1.0\n",
    "        } \n",
    "    }\n",
    "    \n",
    "    @staticmethod\n",
    "    def get_drho_plane(eptm):\n",
    "        delta_rho_plane = []\n",
    "        px, py, pz = [], [], []\n",
    "        for vert in eptm.vert_df.index.values.tolist():\n",
    "            neighbors = eptm.edge_df.loc[eptm.edge_df.srce == vert, ['tx','ty','tz']].values\n",
    "            x, y, z = (eptm.vert_df.loc[vert, ['x','y','z']].values.tolist())\n",
    "            x1 = neighbors[0][0]\n",
    "            x2 = neighbors[1][0]\n",
    "            x3 = neighbors[2][0]\n",
    "            y1 = neighbors[0][1]\n",
    "            y2 = neighbors[1][1] \n",
    "            y3 = neighbors[2][1]\n",
    "            z1 = neighbors[0][2] \n",
    "            z2 = neighbors[1][2] \n",
    "            z3 = neighbors[2][2]\n",
    "            p1 = Point3D(x1, y1, z1)\n",
    "            p2 = Point3D(x2, y2, z2)\n",
    "            p3 = Point3D(x3, y3, z3)\n",
    "            p_vert = Point3D(x, y, z)\n",
    "            plane = Plane(p1, p2, p3)\n",
    "            delta_rho = float(plane.distance(p_vert))\n",
    "            delta_rho_plane.append(delta_rho)\n",
    "            projected_vert = plane.projection(p_vert)\n",
    "            prx, pry, prz = float(projected_vert.x), float(projected_vert.y), float(projected_vert.z)\n",
    "            prx, pry, prz = float(prx - x), float(pry-y, prz-z\n",
    "            prx, pry, prz = prx/(prx**2 + pry**2 + prz**2), pry/(prx**2 + pry**2 + prz**2), prz/(prx**2 + pry**2 + prz**2)\n",
    "            px.append(prx), py.append(pry), pz.append(prz)\n",
    "        eptm.vert_df[\"delta_rho_plane\"] = delta_rho_plane\n",
    "        eptm.vert_df[\"px\"] = px\n",
    "        eptm.vert_df[\"py\"] = py\n",
    "        eptm.vert_df[\"pz\"] = pz\n",
    "    \n",
    "    @staticmethod\n",
    "    def energy(eptm):\n",
    "        PlaneDeviationElasticity.get_drho_plane(eptm)\n",
    "        return eptm.vert_df.eval('delta_rho_plane**2 * plane_K * is_active')\n",
    "    \n",
    "    @staticmethod\n",
    "    def gradient(eptm):\n",
    "        PlaneDeviationElasticity.get_drho_plane(eptm)\n",
    "        grad = eptm.vert_df[eptm.pcoords] * to_nd(\n",
    "            eptm.vert_df.eval('delta_rho_plane**2 * plane_K * is_active'), 3\n",
    "        )\n",
    "        grad.columns = ['g' + c for c in eptm.coords]\n",
    "        return grad, None"
   ]
  },
  {
   "cell_type": "code",
   "execution_count": null,
   "metadata": {},
   "outputs": [],
   "source": []
  },
  {
   "cell_type": "code",
   "execution_count": 10,
   "metadata": {},
   "outputs": [],
   "source": [
    "HeartTubeModel = model_factory(\n",
    "    [\n",
    "        effectors.LineTension,\n",
    "        effectors.FaceContractility,\n",
    "        effectors.FaceVolumeElasticity,\n",
    "        PlaneDeviationElasticity\n",
    "    ])"
   ]
  },
  {
   "cell_type": "code",
   "execution_count": 11,
   "metadata": {},
   "outputs": [],
   "source": [
    "#set model parameters\n",
    "#Line tensions parameters: edge dataframe\n",
    "#Volume and area elasticity: face dataframe\n",
    "sheet.settings['threshold_length'] = 1e-3\n",
    "sheet.face_df[\"prefered_area\"] = 1\n",
    "sheet.edge_df[\"prefered_length\"] = 1\n",
    "sheet.edge_df[\"line_tension\"]= 10\n",
    "sheet.edge_df.loc[sheet.edge_df['alignment'] == \"CW\", \"line_tension\"]= 30\n",
    "# sheet.edge_df.loc[sheet.edge_df['alignment'] == \"CCW\", \"prefered_length\"]= 0.7\n",
    "sheet.face_df[\"prefered_vol\"]=sheet.face_df[\"vol\"].mean()\n",
    "sheet.face_df[\"vol_elasticity\"]=2\n",
    "sheet.face_df[\"area_elasticity\"]=1\n",
    "sheet.face_df[\"contractility\"]=1\n",
    "sheet.face_df[\"prefered_vol\"]=sheet.face_df[\"vol\"].mean()\n",
    "#plane to vertex distance elasticity, or monolayer integrity in biophysical terms\n",
    "sheet.vert_df[\"plane_K\"] = 1\n",
    "sheet.vert_df.is_active = 1\n",
    "# sheet.vert_df.loc[sheet.vert_df.z > 70.0 or sheet.vert_df.z < -70.0, 'is_active'] = 0\n",
    "# sheet.edge_df['is_active'] = sheet.upcast_srce('is_active') * sheet.upcast_trgt('is_active')\n",
    "\n",
    "sheet.pcoords = \"px\", \"py\", \"pz\""
   ]
  },
  {
   "cell_type": "code",
   "execution_count": 12,
   "metadata": {},
   "outputs": [
    {
     "ename": "KeyError",
     "evalue": "('px', 'py', 'pz')",
     "output_type": "error",
     "traceback": [
      "\u001B[1;31m---------------------------------------------------------------------------\u001B[0m",
      "\u001B[1;31mKeyError\u001B[0m                                  Traceback (most recent call last)",
      "\u001B[1;32mC:\\ProgramData\\Anaconda3\\lib\\site-packages\\pandas\\core\\indexes\\base.py\u001B[0m in \u001B[0;36mget_loc\u001B[1;34m(self, key, method, tolerance)\u001B[0m\n\u001B[0;32m   2896\u001B[0m             \u001B[1;32mtry\u001B[0m\u001B[1;33m:\u001B[0m\u001B[1;33m\u001B[0m\u001B[1;33m\u001B[0m\u001B[0m\n\u001B[1;32m-> 2897\u001B[1;33m                 \u001B[1;32mreturn\u001B[0m \u001B[0mself\u001B[0m\u001B[1;33m.\u001B[0m\u001B[0m_engine\u001B[0m\u001B[1;33m.\u001B[0m\u001B[0mget_loc\u001B[0m\u001B[1;33m(\u001B[0m\u001B[0mkey\u001B[0m\u001B[1;33m)\u001B[0m\u001B[1;33m\u001B[0m\u001B[1;33m\u001B[0m\u001B[0m\n\u001B[0m\u001B[0;32m   2898\u001B[0m             \u001B[1;32mexcept\u001B[0m \u001B[0mKeyError\u001B[0m\u001B[1;33m:\u001B[0m\u001B[1;33m\u001B[0m\u001B[1;33m\u001B[0m\u001B[0m\n",
      "\u001B[1;32mpandas\\_libs\\index.pyx\u001B[0m in \u001B[0;36mpandas._libs.index.IndexEngine.get_loc\u001B[1;34m()\u001B[0m\n",
      "\u001B[1;32mpandas\\_libs\\index.pyx\u001B[0m in \u001B[0;36mpandas._libs.index.IndexEngine.get_loc\u001B[1;34m()\u001B[0m\n",
      "\u001B[1;32mpandas\\_libs\\hashtable_class_helper.pxi\u001B[0m in \u001B[0;36mpandas._libs.hashtable.PyObjectHashTable.get_item\u001B[1;34m()\u001B[0m\n",
      "\u001B[1;32mpandas\\_libs\\hashtable_class_helper.pxi\u001B[0m in \u001B[0;36mpandas._libs.hashtable.PyObjectHashTable.get_item\u001B[1;34m()\u001B[0m\n",
      "\u001B[1;31mKeyError\u001B[0m: ('px', 'py', 'pz')",
      "\nDuring handling of the above exception, another exception occurred:\n",
      "\u001B[1;31mKeyError\u001B[0m                                  Traceback (most recent call last)",
      "\u001B[1;32m<ipython-input-12-546ea97c3f12>\u001B[0m in \u001B[0;36m<module>\u001B[1;34m\u001B[0m\n\u001B[0;32m     12\u001B[0m \u001B[0msolver\u001B[0m \u001B[1;33m=\u001B[0m \u001B[0mQSSolver\u001B[0m\u001B[1;33m(\u001B[0m\u001B[0mwith_collisions\u001B[0m\u001B[1;33m=\u001B[0m\u001B[1;32mFalse\u001B[0m\u001B[1;33m,\u001B[0m \u001B[0mwith_t1\u001B[0m\u001B[1;33m=\u001B[0m\u001B[1;32mTrue\u001B[0m\u001B[1;33m,\u001B[0m \u001B[0mwith_t3\u001B[0m\u001B[1;33m=\u001B[0m\u001B[1;32mFalse\u001B[0m\u001B[1;33m)\u001B[0m\u001B[1;33m\u001B[0m\u001B[1;33m\u001B[0m\u001B[0m\n\u001B[0;32m     13\u001B[0m \u001B[0mgeom\u001B[0m \u001B[1;33m=\u001B[0m \u001B[0mClosedSheetGeometry\u001B[0m\u001B[1;33m\u001B[0m\u001B[1;33m\u001B[0m\u001B[0m\n\u001B[1;32m---> 14\u001B[1;33m \u001B[0mres\u001B[0m \u001B[1;33m=\u001B[0m \u001B[0msolver\u001B[0m\u001B[1;33m.\u001B[0m\u001B[0mfind_energy_min\u001B[0m\u001B[1;33m(\u001B[0m\u001B[0msheet\u001B[0m\u001B[1;33m,\u001B[0m \u001B[0mgeom\u001B[0m\u001B[1;33m,\u001B[0m \u001B[0mHeartTubeModel\u001B[0m\u001B[1;33m,\u001B[0m \u001B[1;33m**\u001B[0m\u001B[0mmin_settings\u001B[0m\u001B[1;33m)\u001B[0m\u001B[1;33m\u001B[0m\u001B[1;33m\u001B[0m\u001B[0m\n\u001B[0m\u001B[0;32m     15\u001B[0m \u001B[0mprint\u001B[0m\u001B[1;33m(\u001B[0m\u001B[0mres\u001B[0m\u001B[1;33m[\u001B[0m\u001B[1;34m'success'\u001B[0m\u001B[1;33m]\u001B[0m\u001B[1;33m)\u001B[0m\u001B[1;33m\u001B[0m\u001B[1;33m\u001B[0m\u001B[0m\n",
      "\u001B[1;32mC:\\ProgramData\\Anaconda3\\lib\\site-packages\\tyssue\\solvers\\quasistatic.py\u001B[0m in \u001B[0;36mfind_energy_min\u001B[1;34m(self, eptm, geom, model, **minimize_kw)\u001B[0m\n\u001B[0;32m     85\u001B[0m         \u001B[0msettings\u001B[0m\u001B[1;33m.\u001B[0m\u001B[0mupdate\u001B[0m\u001B[1;33m(\u001B[0m\u001B[1;33m**\u001B[0m\u001B[0mminimize_kw\u001B[0m\u001B[1;33m)\u001B[0m\u001B[1;33m\u001B[0m\u001B[1;33m\u001B[0m\u001B[0m\n\u001B[0;32m     86\u001B[0m \u001B[1;33m\u001B[0m\u001B[0m\n\u001B[1;32m---> 87\u001B[1;33m         \u001B[0mres\u001B[0m \u001B[1;33m=\u001B[0m \u001B[0mself\u001B[0m\u001B[1;33m.\u001B[0m\u001B[0m_minimize\u001B[0m\u001B[1;33m(\u001B[0m\u001B[0meptm\u001B[0m\u001B[1;33m,\u001B[0m \u001B[0mgeom\u001B[0m\u001B[1;33m,\u001B[0m \u001B[0mmodel\u001B[0m\u001B[1;33m,\u001B[0m \u001B[1;33m**\u001B[0m\u001B[0msettings\u001B[0m\u001B[1;33m)\u001B[0m\u001B[1;33m\u001B[0m\u001B[1;33m\u001B[0m\u001B[0m\n\u001B[0m\u001B[0;32m     88\u001B[0m         \u001B[0mlog\u001B[0m\u001B[1;33m.\u001B[0m\u001B[0minfo\u001B[0m\u001B[1;33m(\u001B[0m\u001B[1;34m\"final number of vertices: %i\"\u001B[0m\u001B[1;33m,\u001B[0m \u001B[0meptm\u001B[0m\u001B[1;33m.\u001B[0m\u001B[0mNv\u001B[0m\u001B[1;33m)\u001B[0m\u001B[1;33m\u001B[0m\u001B[1;33m\u001B[0m\u001B[0m\n\u001B[0;32m     89\u001B[0m \u001B[1;33m\u001B[0m\u001B[0m\n",
      "\u001B[1;32mC:\\ProgramData\\Anaconda3\\lib\\site-packages\\tyssue\\solvers\\quasistatic.py\u001B[0m in \u001B[0;36m_minimize\u001B[1;34m(self, eptm, geom, model, **kwargs)\u001B[0m\n\u001B[0;32m    101\u001B[0m                     \u001B[0margs\u001B[0m\u001B[1;33m=\u001B[0m\u001B[1;33m(\u001B[0m\u001B[0meptm\u001B[0m\u001B[1;33m,\u001B[0m \u001B[0mgeom\u001B[0m\u001B[1;33m,\u001B[0m \u001B[0mmodel\u001B[0m\u001B[1;33m)\u001B[0m\u001B[1;33m,\u001B[0m\u001B[1;33m\u001B[0m\u001B[1;33m\u001B[0m\u001B[0m\n\u001B[0;32m    102\u001B[0m                     \u001B[0mjac\u001B[0m\u001B[1;33m=\u001B[0m\u001B[0mself\u001B[0m\u001B[1;33m.\u001B[0m\u001B[0m_opt_grad\u001B[0m\u001B[1;33m,\u001B[0m\u001B[1;33m\u001B[0m\u001B[1;33m\u001B[0m\u001B[0m\n\u001B[1;32m--> 103\u001B[1;33m                     \u001B[1;33m**\u001B[0m\u001B[0mkwargs\u001B[0m\u001B[1;33m\u001B[0m\u001B[1;33m\u001B[0m\u001B[0m\n\u001B[0m\u001B[0;32m    104\u001B[0m                 )\n\u001B[0;32m    105\u001B[0m                 \u001B[1;32mreturn\u001B[0m \u001B[0mself\u001B[0m\u001B[1;33m.\u001B[0m\u001B[0mres\u001B[0m\u001B[1;33m\u001B[0m\u001B[1;33m\u001B[0m\u001B[0m\n",
      "\u001B[1;32mC:\\ProgramData\\Anaconda3\\lib\\site-packages\\scipy\\optimize\\_minimize.py\u001B[0m in \u001B[0;36mminimize\u001B[1;34m(fun, x0, args, method, jac, hess, hessp, bounds, constraints, tol, callback, options)\u001B[0m\n\u001B[0;32m    598\u001B[0m     \u001B[1;32melif\u001B[0m \u001B[0mmeth\u001B[0m \u001B[1;33m==\u001B[0m \u001B[1;34m'l-bfgs-b'\u001B[0m\u001B[1;33m:\u001B[0m\u001B[1;33m\u001B[0m\u001B[1;33m\u001B[0m\u001B[0m\n\u001B[0;32m    599\u001B[0m         return _minimize_lbfgsb(fun, x0, args, jac, bounds,\n\u001B[1;32m--> 600\u001B[1;33m                                 callback=callback, **options)\n\u001B[0m\u001B[0;32m    601\u001B[0m     \u001B[1;32melif\u001B[0m \u001B[0mmeth\u001B[0m \u001B[1;33m==\u001B[0m \u001B[1;34m'tnc'\u001B[0m\u001B[1;33m:\u001B[0m\u001B[1;33m\u001B[0m\u001B[1;33m\u001B[0m\u001B[0m\n\u001B[0;32m    602\u001B[0m         return _minimize_tnc(fun, x0, args, jac, bounds, callback=callback,\n",
      "\u001B[1;32mC:\\ProgramData\\Anaconda3\\lib\\site-packages\\scipy\\optimize\\lbfgsb.py\u001B[0m in \u001B[0;36m_minimize_lbfgsb\u001B[1;34m(fun, x0, args, jac, bounds, disp, maxcor, ftol, gtol, eps, maxfun, maxiter, iprint, callback, maxls, **unknown_options)\u001B[0m\n\u001B[0;32m    333\u001B[0m             \u001B[1;31m# until the completion of the current minimization iteration.\u001B[0m\u001B[1;33m\u001B[0m\u001B[1;33m\u001B[0m\u001B[1;33m\u001B[0m\u001B[0m\n\u001B[0;32m    334\u001B[0m             \u001B[1;31m# Overwrite f and g:\u001B[0m\u001B[1;33m\u001B[0m\u001B[1;33m\u001B[0m\u001B[1;33m\u001B[0m\u001B[0m\n\u001B[1;32m--> 335\u001B[1;33m             \u001B[0mf\u001B[0m\u001B[1;33m,\u001B[0m \u001B[0mg\u001B[0m \u001B[1;33m=\u001B[0m \u001B[0mfunc_and_grad\u001B[0m\u001B[1;33m(\u001B[0m\u001B[0mx\u001B[0m\u001B[1;33m)\u001B[0m\u001B[1;33m\u001B[0m\u001B[1;33m\u001B[0m\u001B[0m\n\u001B[0m\u001B[0;32m    336\u001B[0m         \u001B[1;32melif\u001B[0m \u001B[0mtask_str\u001B[0m\u001B[1;33m.\u001B[0m\u001B[0mstartswith\u001B[0m\u001B[1;33m(\u001B[0m\u001B[1;34mb'NEW_X'\u001B[0m\u001B[1;33m)\u001B[0m\u001B[1;33m:\u001B[0m\u001B[1;33m\u001B[0m\u001B[1;33m\u001B[0m\u001B[0m\n\u001B[0;32m    337\u001B[0m             \u001B[1;31m# new iteration\u001B[0m\u001B[1;33m\u001B[0m\u001B[1;33m\u001B[0m\u001B[1;33m\u001B[0m\u001B[0m\n",
      "\u001B[1;32mC:\\ProgramData\\Anaconda3\\lib\\site-packages\\scipy\\optimize\\lbfgsb.py\u001B[0m in \u001B[0;36mfunc_and_grad\u001B[1;34m(x)\u001B[0m\n\u001B[0;32m    284\u001B[0m         \u001B[1;32mdef\u001B[0m \u001B[0mfunc_and_grad\u001B[0m\u001B[1;33m(\u001B[0m\u001B[0mx\u001B[0m\u001B[1;33m)\u001B[0m\u001B[1;33m:\u001B[0m\u001B[1;33m\u001B[0m\u001B[1;33m\u001B[0m\u001B[0m\n\u001B[0;32m    285\u001B[0m             \u001B[0mf\u001B[0m \u001B[1;33m=\u001B[0m \u001B[0mfun\u001B[0m\u001B[1;33m(\u001B[0m\u001B[0mx\u001B[0m\u001B[1;33m,\u001B[0m \u001B[1;33m*\u001B[0m\u001B[0margs\u001B[0m\u001B[1;33m)\u001B[0m\u001B[1;33m\u001B[0m\u001B[1;33m\u001B[0m\u001B[0m\n\u001B[1;32m--> 286\u001B[1;33m             \u001B[0mg\u001B[0m \u001B[1;33m=\u001B[0m \u001B[0mjac\u001B[0m\u001B[1;33m(\u001B[0m\u001B[0mx\u001B[0m\u001B[1;33m,\u001B[0m \u001B[1;33m*\u001B[0m\u001B[0margs\u001B[0m\u001B[1;33m)\u001B[0m\u001B[1;33m\u001B[0m\u001B[1;33m\u001B[0m\u001B[0m\n\u001B[0m\u001B[0;32m    287\u001B[0m             \u001B[1;32mreturn\u001B[0m \u001B[0mf\u001B[0m\u001B[1;33m,\u001B[0m \u001B[0mg\u001B[0m\u001B[1;33m\u001B[0m\u001B[1;33m\u001B[0m\u001B[0m\n\u001B[0;32m    288\u001B[0m \u001B[1;33m\u001B[0m\u001B[0m\n",
      "\u001B[1;32mC:\\ProgramData\\Anaconda3\\lib\\site-packages\\tyssue\\solvers\\quasistatic.py\u001B[0m in \u001B[0;36m_opt_grad\u001B[1;34m(self, pos, eptm, geom, model)\u001B[0m\n\u001B[0;32m    120\u001B[0m         \u001B[1;32mif\u001B[0m \u001B[0mself\u001B[0m\u001B[1;33m.\u001B[0m\u001B[0mrearange\u001B[0m \u001B[1;32mand\u001B[0m \u001B[0meptm\u001B[0m\u001B[1;33m.\u001B[0m\u001B[0mtopo_changed\u001B[0m\u001B[1;33m:\u001B[0m\u001B[1;33m\u001B[0m\u001B[1;33m\u001B[0m\u001B[0m\n\u001B[0;32m    121\u001B[0m             \u001B[1;32mraise\u001B[0m \u001B[0mTopologyChangeError\u001B[0m\u001B[1;33m(\u001B[0m\u001B[1;34m\"Topology changed before gradient evaluation\"\u001B[0m\u001B[1;33m)\u001B[0m\u001B[1;33m\u001B[0m\u001B[1;33m\u001B[0m\u001B[0m\n\u001B[1;32m--> 122\u001B[1;33m         \u001B[0mgrad_i\u001B[0m \u001B[1;33m=\u001B[0m \u001B[0mmodel\u001B[0m\u001B[1;33m.\u001B[0m\u001B[0mcompute_gradient\u001B[0m\u001B[1;33m(\u001B[0m\u001B[0meptm\u001B[0m\u001B[1;33m)\u001B[0m\u001B[1;33m\u001B[0m\u001B[1;33m\u001B[0m\u001B[0m\n\u001B[0m\u001B[0;32m    123\u001B[0m         \u001B[1;32mreturn\u001B[0m \u001B[0mgrad_i\u001B[0m\u001B[1;33m.\u001B[0m\u001B[0mloc\u001B[0m\u001B[1;33m[\u001B[0m\u001B[0meptm\u001B[0m\u001B[1;33m.\u001B[0m\u001B[0mactive_verts\u001B[0m\u001B[1;33m]\u001B[0m\u001B[1;33m.\u001B[0m\u001B[0mvalues\u001B[0m\u001B[1;33m.\u001B[0m\u001B[0mravel\u001B[0m\u001B[1;33m(\u001B[0m\u001B[1;33m)\u001B[0m\u001B[1;33m\u001B[0m\u001B[1;33m\u001B[0m\u001B[0m\n\u001B[0;32m    124\u001B[0m \u001B[1;33m\u001B[0m\u001B[0m\n",
      "\u001B[1;32mC:\\ProgramData\\Anaconda3\\lib\\site-packages\\tyssue\\dynamics\\factory.py\u001B[0m in \u001B[0;36mcompute_gradient\u001B[1;34m(eptm, components)\u001B[0m\n\u001B[0;32m     92\u001B[0m             )\n\u001B[0;32m     93\u001B[0m \u001B[1;33m\u001B[0m\u001B[0m\n\u001B[1;32m---> 94\u001B[1;33m             \u001B[0mgrads\u001B[0m \u001B[1;33m=\u001B[0m \u001B[1;33m[\u001B[0m\u001B[0mf\u001B[0m\u001B[1;33m.\u001B[0m\u001B[0mgradient\u001B[0m\u001B[1;33m(\u001B[0m\u001B[0meptm\u001B[0m\u001B[1;33m)\u001B[0m \u001B[1;32mfor\u001B[0m \u001B[0mf\u001B[0m \u001B[1;32min\u001B[0m \u001B[0meffectors\u001B[0m\u001B[1;33m]\u001B[0m\u001B[1;33m\u001B[0m\u001B[1;33m\u001B[0m\u001B[0m\n\u001B[0m\u001B[0;32m     95\u001B[0m             \u001B[1;32mif\u001B[0m \u001B[0mcomponents\u001B[0m\u001B[1;33m:\u001B[0m\u001B[1;33m\u001B[0m\u001B[1;33m\u001B[0m\u001B[0m\n\u001B[0;32m     96\u001B[0m                 \u001B[1;32mreturn\u001B[0m \u001B[0mgrads\u001B[0m\u001B[1;33m\u001B[0m\u001B[1;33m\u001B[0m\u001B[0m\n",
      "\u001B[1;32mC:\\ProgramData\\Anaconda3\\lib\\site-packages\\tyssue\\dynamics\\factory.py\u001B[0m in \u001B[0;36m<listcomp>\u001B[1;34m(.0)\u001B[0m\n\u001B[0;32m     92\u001B[0m             )\n\u001B[0;32m     93\u001B[0m \u001B[1;33m\u001B[0m\u001B[0m\n\u001B[1;32m---> 94\u001B[1;33m             \u001B[0mgrads\u001B[0m \u001B[1;33m=\u001B[0m \u001B[1;33m[\u001B[0m\u001B[0mf\u001B[0m\u001B[1;33m.\u001B[0m\u001B[0mgradient\u001B[0m\u001B[1;33m(\u001B[0m\u001B[0meptm\u001B[0m\u001B[1;33m)\u001B[0m \u001B[1;32mfor\u001B[0m \u001B[0mf\u001B[0m \u001B[1;32min\u001B[0m \u001B[0meffectors\u001B[0m\u001B[1;33m]\u001B[0m\u001B[1;33m\u001B[0m\u001B[1;33m\u001B[0m\u001B[0m\n\u001B[0m\u001B[0;32m     95\u001B[0m             \u001B[1;32mif\u001B[0m \u001B[0mcomponents\u001B[0m\u001B[1;33m:\u001B[0m\u001B[1;33m\u001B[0m\u001B[1;33m\u001B[0m\u001B[0m\n\u001B[0;32m     96\u001B[0m                 \u001B[1;32mreturn\u001B[0m \u001B[0mgrads\u001B[0m\u001B[1;33m\u001B[0m\u001B[1;33m\u001B[0m\u001B[0m\n",
      "\u001B[1;32m<ipython-input-9-e8e1519f742d>\u001B[0m in \u001B[0;36mgradient\u001B[1;34m(eptm)\u001B[0m\n\u001B[0;32m     54\u001B[0m     \u001B[1;32mdef\u001B[0m \u001B[0mgradient\u001B[0m\u001B[1;33m(\u001B[0m\u001B[0meptm\u001B[0m\u001B[1;33m)\u001B[0m\u001B[1;33m:\u001B[0m\u001B[1;33m\u001B[0m\u001B[1;33m\u001B[0m\u001B[0m\n\u001B[0;32m     55\u001B[0m         \u001B[0mPlaneDeviationElasticity\u001B[0m\u001B[1;33m.\u001B[0m\u001B[0mget_drho_plane\u001B[0m\u001B[1;33m(\u001B[0m\u001B[0meptm\u001B[0m\u001B[1;33m)\u001B[0m\u001B[1;33m\u001B[0m\u001B[1;33m\u001B[0m\u001B[0m\n\u001B[1;32m---> 56\u001B[1;33m         grad = eptm.edge_df[eptm.pcoords] * to_nd(\n\u001B[0m\u001B[0;32m     57\u001B[0m             \u001B[0meptm\u001B[0m\u001B[1;33m.\u001B[0m\u001B[0mvert_df\u001B[0m\u001B[1;33m.\u001B[0m\u001B[0meval\u001B[0m\u001B[1;33m(\u001B[0m\u001B[1;34m'delta_rho_plane**2 * plane_K * is_active'\u001B[0m\u001B[1;33m)\u001B[0m\u001B[1;33m,\u001B[0m \u001B[1;36m3\u001B[0m\u001B[1;33m\u001B[0m\u001B[1;33m\u001B[0m\u001B[0m\n\u001B[0;32m     58\u001B[0m         )\n",
      "\u001B[1;32mC:\\ProgramData\\Anaconda3\\lib\\site-packages\\pandas\\core\\frame.py\u001B[0m in \u001B[0;36m__getitem__\u001B[1;34m(self, key)\u001B[0m\n\u001B[0;32m   2978\u001B[0m             \u001B[1;32mif\u001B[0m \u001B[0mself\u001B[0m\u001B[1;33m.\u001B[0m\u001B[0mcolumns\u001B[0m\u001B[1;33m.\u001B[0m\u001B[0mnlevels\u001B[0m \u001B[1;33m>\u001B[0m \u001B[1;36m1\u001B[0m\u001B[1;33m:\u001B[0m\u001B[1;33m\u001B[0m\u001B[1;33m\u001B[0m\u001B[0m\n\u001B[0;32m   2979\u001B[0m                 \u001B[1;32mreturn\u001B[0m \u001B[0mself\u001B[0m\u001B[1;33m.\u001B[0m\u001B[0m_getitem_multilevel\u001B[0m\u001B[1;33m(\u001B[0m\u001B[0mkey\u001B[0m\u001B[1;33m)\u001B[0m\u001B[1;33m\u001B[0m\u001B[1;33m\u001B[0m\u001B[0m\n\u001B[1;32m-> 2980\u001B[1;33m             \u001B[0mindexer\u001B[0m \u001B[1;33m=\u001B[0m \u001B[0mself\u001B[0m\u001B[1;33m.\u001B[0m\u001B[0mcolumns\u001B[0m\u001B[1;33m.\u001B[0m\u001B[0mget_loc\u001B[0m\u001B[1;33m(\u001B[0m\u001B[0mkey\u001B[0m\u001B[1;33m)\u001B[0m\u001B[1;33m\u001B[0m\u001B[1;33m\u001B[0m\u001B[0m\n\u001B[0m\u001B[0;32m   2981\u001B[0m             \u001B[1;32mif\u001B[0m \u001B[0mis_integer\u001B[0m\u001B[1;33m(\u001B[0m\u001B[0mindexer\u001B[0m\u001B[1;33m)\u001B[0m\u001B[1;33m:\u001B[0m\u001B[1;33m\u001B[0m\u001B[1;33m\u001B[0m\u001B[0m\n\u001B[0;32m   2982\u001B[0m                 \u001B[0mindexer\u001B[0m \u001B[1;33m=\u001B[0m \u001B[1;33m[\u001B[0m\u001B[0mindexer\u001B[0m\u001B[1;33m]\u001B[0m\u001B[1;33m\u001B[0m\u001B[1;33m\u001B[0m\u001B[0m\n",
      "\u001B[1;32mC:\\ProgramData\\Anaconda3\\lib\\site-packages\\pandas\\core\\indexes\\base.py\u001B[0m in \u001B[0;36mget_loc\u001B[1;34m(self, key, method, tolerance)\u001B[0m\n\u001B[0;32m   2897\u001B[0m                 \u001B[1;32mreturn\u001B[0m \u001B[0mself\u001B[0m\u001B[1;33m.\u001B[0m\u001B[0m_engine\u001B[0m\u001B[1;33m.\u001B[0m\u001B[0mget_loc\u001B[0m\u001B[1;33m(\u001B[0m\u001B[0mkey\u001B[0m\u001B[1;33m)\u001B[0m\u001B[1;33m\u001B[0m\u001B[1;33m\u001B[0m\u001B[0m\n\u001B[0;32m   2898\u001B[0m             \u001B[1;32mexcept\u001B[0m \u001B[0mKeyError\u001B[0m\u001B[1;33m:\u001B[0m\u001B[1;33m\u001B[0m\u001B[1;33m\u001B[0m\u001B[0m\n\u001B[1;32m-> 2899\u001B[1;33m                 \u001B[1;32mreturn\u001B[0m \u001B[0mself\u001B[0m\u001B[1;33m.\u001B[0m\u001B[0m_engine\u001B[0m\u001B[1;33m.\u001B[0m\u001B[0mget_loc\u001B[0m\u001B[1;33m(\u001B[0m\u001B[0mself\u001B[0m\u001B[1;33m.\u001B[0m\u001B[0m_maybe_cast_indexer\u001B[0m\u001B[1;33m(\u001B[0m\u001B[0mkey\u001B[0m\u001B[1;33m)\u001B[0m\u001B[1;33m)\u001B[0m\u001B[1;33m\u001B[0m\u001B[1;33m\u001B[0m\u001B[0m\n\u001B[0m\u001B[0;32m   2900\u001B[0m         \u001B[0mindexer\u001B[0m \u001B[1;33m=\u001B[0m \u001B[0mself\u001B[0m\u001B[1;33m.\u001B[0m\u001B[0mget_indexer\u001B[0m\u001B[1;33m(\u001B[0m\u001B[1;33m[\u001B[0m\u001B[0mkey\u001B[0m\u001B[1;33m]\u001B[0m\u001B[1;33m,\u001B[0m \u001B[0mmethod\u001B[0m\u001B[1;33m=\u001B[0m\u001B[0mmethod\u001B[0m\u001B[1;33m,\u001B[0m \u001B[0mtolerance\u001B[0m\u001B[1;33m=\u001B[0m\u001B[0mtolerance\u001B[0m\u001B[1;33m)\u001B[0m\u001B[1;33m\u001B[0m\u001B[1;33m\u001B[0m\u001B[0m\n\u001B[0;32m   2901\u001B[0m         \u001B[1;32mif\u001B[0m \u001B[0mindexer\u001B[0m\u001B[1;33m.\u001B[0m\u001B[0mndim\u001B[0m \u001B[1;33m>\u001B[0m \u001B[1;36m1\u001B[0m \u001B[1;32mor\u001B[0m \u001B[0mindexer\u001B[0m\u001B[1;33m.\u001B[0m\u001B[0msize\u001B[0m \u001B[1;33m>\u001B[0m \u001B[1;36m1\u001B[0m\u001B[1;33m:\u001B[0m\u001B[1;33m\u001B[0m\u001B[1;33m\u001B[0m\u001B[0m\n",
      "\u001B[1;32mpandas\\_libs\\index.pyx\u001B[0m in \u001B[0;36mpandas._libs.index.IndexEngine.get_loc\u001B[1;34m()\u001B[0m\n",
      "\u001B[1;32mpandas\\_libs\\index.pyx\u001B[0m in \u001B[0;36mpandas._libs.index.IndexEngine.get_loc\u001B[1;34m()\u001B[0m\n",
      "\u001B[1;32mpandas\\_libs\\hashtable_class_helper.pxi\u001B[0m in \u001B[0;36mpandas._libs.hashtable.PyObjectHashTable.get_item\u001B[1;34m()\u001B[0m\n",
      "\u001B[1;32mpandas\\_libs\\hashtable_class_helper.pxi\u001B[0m in \u001B[0;36mpandas._libs.hashtable.PyObjectHashTable.get_item\u001B[1;34m()\u001B[0m\n",
      "\u001B[1;31mKeyError\u001B[0m: ('px', 'py', 'pz')"
     ]
    }
   ],
   "source": [
    "#default settings for minimization\n",
    "min_settings = {\n",
    "#    \"minimize\":{\n",
    "        'options': {\n",
    "            'disp': False,\n",
    "            'ftol': 1e-6,\n",
    "            'gtol': 1e-5},\n",
    "#    }\n",
    "}\n",
    "\n",
    "#creatling solver object assigning geometry\n",
    "solver = QSSolver(with_collisions=False, with_t1=True, with_t3=False)\n",
    "geom = ClosedSheetGeometry\n",
    "res = solver.find_energy_min(sheet, geom, HeartTubeModel, **min_settings)\n",
    "print(res['success'])"
   ]
  },
  {
   "cell_type": "code",
   "execution_count": null,
   "metadata": {},
   "outputs": [],
   "source": [
    "# call edge alignment functions above and quantify the alignments\n",
    "get_edge_alignments_3Dcylinder(sheet.edge_df)\n",
    "ccw_count = sheet.edge_df.loc[sheet.edge_df.alignment == 'CCW', 'alignment'].count()\n",
    "cw_count = sheet.edge_df.loc[sheet.edge_df.alignment == 'CW', 'alignment'].count()\n",
    "verti_count = sheet.edge_df.loc[sheet.edge_df.alignment == 'Vertical', 'alignment'].count()\n",
    "hor_count = sheet.edge_df.loc[sheet.edge_df.alignment == 'Horizontal', 'alignment'].count()\n",
    "cw_count, ccw_count, verti_count, hor_count"
   ]
  },
  {
   "cell_type": "code",
   "execution_count": null,
   "metadata": {},
   "outputs": [],
   "source": [
    "#create colormap with three colors and apply bounds\n",
    "\n",
    "cmap = mpl.colors.ListedColormap(['red', 'green', 'blue'])\n",
    "\n",
    "\n",
    "bounds = [0, 1.1, 2.1, 3.1]\n",
    "\n",
    "norm = mpl.colors.BoundaryNorm(bounds, cmap.N)\n",
    "\n",
    "#set color based on chiral alignment\n",
    "sheet.edge_df[\"color\"]= 2.5\n",
    "sheet.edge_df.loc[sheet.edge_df['alignment'] == \"CW\", \"color\"]= 0.5\n",
    "sheet.edge_df.loc[sheet.edge_df['alignment'] == \"CCW\", \"color\"]= 1.5\n",
    "sheet.edge_df.loc[sheet.edge_df['alignment'] == \"Horizontal\", \"color\"]= 2.5\n",
    "sheet.edge_df.loc[sheet.edge_df['alignment'] == \"Vertical\", \"color\"]= 2.5\n",
    "\n",
    "color = sheet.edge_df[\"color\"]"
   ]
  },
  {
   "cell_type": "code",
   "execution_count": null,
   "metadata": {},
   "outputs": [],
   "source": [
    "cw_count = sheet.edge_df.loc[sheet.edge_df.alignment == 'CW', 'alignment'].count()\n",
    "ccw_count = sheet.edge_df.loc[sheet.edge_df.alignment == 'CCW', 'alignment'].count()\n",
    "verti_count = sheet.edge_df.loc[sheet.edge_df.alignment == 'Vertical', 'alignment'].count()\n",
    "hor_count = sheet.edge_df.loc[sheet.edge_df.alignment == 'Horizontal', 'alignment'].count()\n",
    "cw_count, ccw_count, verti_count, hor_count"
   ]
  },
  {
   "cell_type": "code",
   "execution_count": null,
   "metadata": {},
   "outputs": [],
   "source": [
    "#visualise colored tissue\n",
    "ipv.clear()\n",
    "fig, mesh = sheet_view(sheet, coords=['x', 'y', 'z'], edge={\"color\":color, \"colormap\": cmap, \"norm\": norm}, mode=\"3D\")\n",
    "ipv.pylab.xyzlabel(\"x-axis\", \"y-axis\", \"z-axis\")\n",
    "ipv.pylab.style.axes_on()\n",
    "fig "
   ]
  },
  {
   "cell_type": "code",
   "execution_count": null,
   "metadata": {},
   "outputs": [],
   "source": [
    "# #create Event manager class for successive minimizations - seems redundant\n",
    "# manager = EventManager('edge')"
   ]
  },
  {
   "cell_type": "code",
   "execution_count": null,
   "metadata": {},
   "outputs": [],
   "source": [
    "# #running multiple minimizations\n",
    "# t=0\n",
    "# stop=100000\n",
    "# while manager.current and t < stop:\n",
    "#     manager.execute(sheet)\n",
    "#     t += 1\n",
    "#     get_edge_alignments_3Dcylinder(sheet.edge_df)\n",
    "#     sheet.edge_df[\"line_tension\"]= 10\n",
    "#     sheet.edge_df.loc[sheet.edge_df['alignment'] == \"CW\", \"line_tension\"]= 30\n",
    "# #     sheet.edge_df.loc[sheet.edge_df['alignment'] == \"CCW\", \"prefered_length\"]= 0.7\n",
    "#     deactivate_cap_vertices(sheet)\n",
    "#     res = solver.find_energy_min(sheet, geom, model, **min_settings)\n",
    "#     fig, ax = sheet_view(sheet, sheet.coords, mode = '3D')\n",
    "#     plt.savefig('linetension{:03d}.png'.format(t))\n",
    "#     manager.update"
   ]
  },
  {
   "cell_type": "code",
   "execution_count": null,
   "metadata": {
    "scrolled": false
   },
   "outputs": [],
   "source": [
    "# #get new alignments\n",
    "# #create colormap with three colors and apply bounds\n",
    "\n",
    "# get_edge_alignments_3Dcylinder(sheet.edge_df)\n",
    "\n",
    "\n",
    "# cmap = mpl.colors.ListedColormap(['red', 'green', 'blue'])\n",
    "\n",
    "\n",
    "# bounds = [0, 1.4, 2.4, 3.4]\n",
    "\n",
    "# norm = mpl.colors.BoundaryNorm(bounds, cmap.N)\n",
    "# #set color based on chiral alignment\n",
    "# sheet.edge_df[\"color\"]= 2.5\n",
    "# sheet.edge_df.loc[sheet.edge_df['alignment'] == \"CW\", \"color\"]= 0.5\n",
    "# sheet.edge_df.loc[sheet.edge_df['alignment'] == \"CCW\", \"color\"]= 1.5\n",
    "# sheet.edge_df.loc[sheet.edge_df['alignment'] == \"Horizontal\", \"color\"]= 2.5\n",
    "# sheet.edge_df.loc[sheet.edge_df['alignment'] == \"Vertical\", \"color\"]= 2.5\n",
    "# color = sheet.edge_df[\"color\"]\n",
    "\n",
    "# ipv.clear()\n",
    "# fig, mesh = sheet_view(sheet, coords=['x', 'y', 'z'], edge={\"color\":color, \"colormap\": cmap, \"norm\": norm}, mode=\"3D\")\n",
    "# ipv.pylab.xyzlabel(\"x-axis\", \"y-axis\", \"z-axis\")\n",
    "# ipv.pylab.style.axes_on()\n",
    "# fig "
   ]
  },
  {
   "cell_type": "code",
   "execution_count": null,
   "metadata": {},
   "outputs": [],
   "source": [
    "cell_division(sheet, 160, geom, angle = np.pi)"
   ]
  },
  {
   "cell_type": "code",
   "execution_count": null,
   "metadata": {},
   "outputs": [],
   "source": [
    "def find_ventral_cells(sheet):\n",
    "    max_z = max(sheet.vert_df[\"z\"]) - 20\n",
    "    min_z = min(sheet.vert_df[\"z\"]) + 20\n",
    "    max_x = max(sheet.vert_df[\"x\"]) \n",
    "    min_x = max_x - (0.6 * max_x)\n",
    "    mothers = sheet.face_df.loc[(sheet.face_df[\"x\"] >= min_x) & \n",
    "                                (sheet.face_df[\"x\"] < max_x) & \n",
    "                                (sheet.face_df[\"z\"] > min_z) &\n",
    "                                (sheet.face_df[\"z\"] < max_z)].index.tolist()\n",
    "    return mothers\n",
    "def divide_ventral_cells(sheet, geom, model, angle, **min_settings):\n",
    "    #divides all cells on ventral side, defined by cell center coordinates as defined in the find_ventral_cells function\n",
    "    for mother in mothers:\n",
    "        daughter = cell_division(sheet, mother, geom, angle=angle)\n",
    "        res = solver.find_energy_min(sheet, geom, model, **min_settings)"
   ]
  },
  {
   "cell_type": "code",
   "execution_count": null,
   "metadata": {},
   "outputs": [],
   "source": [
    "#store indices of faces to be divided.\n",
    "mothers = find_ventral_cells(sheet)\n",
    "#run the function above to subsequently \n",
    "divide_ventral_cells(sheet, geom, HeartTubeModel, angle = np.pi/2, **min_settings)"
   ]
  },
  {
   "cell_type": "code",
   "execution_count": null,
   "metadata": {},
   "outputs": [],
   "source": [
    "ipv.clear()\n",
    "fig, mesh = sheet_view(sheet, coords=['x', 'y', 'z'], mode=\"3D\")\n",
    "ipv.pylab.xyzlabel(\"x-axis\", \"y-axis\", \"z-axis\")\n",
    "ipv.pylab.style.axes_on()\n",
    "fig "
   ]
  },
  {
   "cell_type": "code",
   "execution_count": null,
   "metadata": {},
   "outputs": [],
   "source": []
  }
 ],
 "metadata": {
  "kernelspec": {
   "display_name": "Python 3",
   "language": "python",
   "name": "python3"
  },
  "language_info": {
   "codemirror_mode": {
    "name": "ipython",
    "version": 3
   },
   "file_extension": ".py",
   "mimetype": "text/x-python",
   "name": "python",
   "nbconvert_exporter": "python",
   "pygments_lexer": "ipython3",
   "version": "3.7.4"
  }
 },
 "nbformat": 4,
 "nbformat_minor": 2
}
