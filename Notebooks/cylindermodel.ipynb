{
 "cells": [
  {
   "cell_type": "code",
   "id": "initial_id",
   "metadata": {
    "ExecuteTime": {
     "end_time": "2025-08-13T16:14:08.818859Z",
     "start_time": "2025-08-13T16:14:07.411207Z"
    }
   },
   "source": [
    "import random\n",
    "from pprint import pprint\n",
    "import io\n",
    "import imageio.v2 as imageio\n",
    "import matplotlib.pyplot as plt\n",
    "import numpy as np\n",
    "import time\n",
    "import logging\n",
    "\n",
    "import tyssue\n",
    "from tyssue import History\n",
    "from tyssue.dynamics import effectors, model_factory, model_factory_vessel, model_factory_cylinder\n",
    "from tyssue.generation.hexagonal_grids import hexa_cylinder\n",
    "from tyssue.generation.shapes import sheet_from_cell_centers\n",
    "from tyssue.geometry.sheet_geometry import CylinderGeometry, CylinderGeometryInit\n",
    "from tyssue import config\n",
    "from tyssue.draw import sheet_view, create_gif\n",
    "from tyssue.geometry.vessel_geometry import VesselGeometry as geom\n",
    "from tyssue.solvers.viscous import EulerSolver\n",
    "from tyssue.draw.ipv_draw import browse_history\n",
    "from tyssue.topology.sheet_topology import cell_division, drop_face, split_vert\n",
    "from tyssue.topology.base_topology import remove_face\n",
    "from tyssue.behaviors import EventManager\n",
    "from tyssue.generation.modifiers import create_anchors\n",
    "from vivarium_tyssue.behaviors import *\n",
    "import ipyvolume as ipv\n",
    "\n",
    "from process_bigraph import Process, Composite, ProcessTypes\n",
    "from process_bigraph.emitter import emitter_from_wires, gather_emitter_results\n",
    "\n",
    "%load_ext snakeviz"
   ],
   "outputs": [
    {
     "name": "stdout",
     "output_type": "stream",
     "text": [
      "C++ extensions are not available for this version\n",
      "collision solver could not be imported You may need to install CGAL and re-install tyssue\n"
     ]
    }
   ],
   "execution_count": 1
  },
  {
   "cell_type": "code",
   "id": "f3b5254847a49d75",
   "metadata": {
    "ExecuteTime": {
     "end_time": "2025-08-13T16:14:08.822897Z",
     "start_time": "2025-08-13T16:14:08.821550Z"
    }
   },
   "source": [
    "# def fix_points_cylinder(sheet, radius):\n",
    "#     xy = sheet.vert_df[['x', 'y']].to_numpy()\n",
    "#     r = np.linalg.norm(xy, axis=1)\n",
    "#     r_safe = np.where(r == 0, 1e-12, r)\n",
    "#     xy_on_cylinder = (radius/r_safe)[:, None] * xy\n",
    "#     sheet.vert_df['x'] = xy_on_cylinder[:, 0]\n",
    "#     sheet.vert_df['y'] = xy_on_cylinder[:, 1]"
   ],
   "outputs": [],
   "execution_count": 2
  },
  {
   "cell_type": "code",
   "id": "a540521329af124b",
   "metadata": {
    "ExecuteTime": {
     "end_time": "2025-08-13T16:14:08.882411Z",
     "start_time": "2025-08-13T16:14:08.880984Z"
    }
   },
   "source": [
    "# def divide_cylinder(sheet, manager, geom, division_rate, dt, radius):\n",
    "#     update_stem_cells(sheet)\n",
    "#     stem_cells = sheet.face_df.loc[(sheet.face_df[\"stem_cell\"] == 1) & (sheet.face_df[\"area\"]>=0.7*sheet.face_df[\"area\"].mean())].copy()\n",
    "#     n_stem = len(stem_cells)\n",
    "#     cell_ids = list(stem_cells[\"unique_id\"])\n",
    "#     n_divisions = np.random.binomial(n=n_stem, p=division_rate * dt)\n",
    "#     dividing_cells = np.random.choice(cell_ids, size=n_divisions, replace=False)\n",
    "#\n",
    "#     for cell_id in dividing_cells:\n",
    "#         cell_idx = int(sheet.face_df[sheet.face_df[\"unique_id\"] == cell_id].index[0])\n",
    "#         daughter = cell_division(sheet, cell_idx, geom)\n",
    "#     manager.append(divide_cylinder, geom=geom, division_rate=division_rate, dt=dt, radius=radius)\n",
    "#     fix_points_cylinder(sheet, radius=radius)"
   ],
   "outputs": [],
   "execution_count": 3
  },
  {
   "cell_type": "code",
   "id": "3d7865e5e469f0f3",
   "metadata": {
    "ExecuteTime": {
     "end_time": "2025-08-13T16:14:08.889489Z",
     "start_time": "2025-08-13T16:14:08.888062Z"
    }
   },
   "source": [
    "# def apoptosis_cylinder(sheet, manager, death_rate, dt, radius, geom):\n",
    "#     update_stem_cells(sheet)\n",
    "#     dying_cells = sheet.face_df.loc[sheet.face_df[\"dying_cell\"] == 1]\n",
    "#     n_dying = len(dying_cells)\n",
    "#     cell_ids = list(dying_cells[\"unique_id\"])\n",
    "#     n_deaths = np.random.binomial(n=n_dying, p=death_rate * dt)\n",
    "#     to_kill = np.random.choice(cell_ids, size=n_deaths, replace=False)\n",
    "#\n",
    "#     for cell_id in to_kill:\n",
    "#         cell_idx = int(sheet.face_df[sheet.face_df[\"unique_id\"] == cell_id].index[0])\n",
    "#         # if sheet.face_df.loc[cell_idx, \"boundary\"] == 0:\n",
    "#         vertex = remove_face(sheet, cell_idx)\n",
    "#         # else:\n",
    "#         #     vertex = drop_face(sheet, cell_idx, geom)\n",
    "#         # split_vert(sheet, vertex)\n",
    "#     manager.append(apoptosis_cylinder, death_rate=death_rate, dt=dt, radius=radius, geom=geom)\n",
    "#     fix_points_cylinder(sheet, radius=radius)"
   ],
   "outputs": [],
   "execution_count": 4
  },
  {
   "cell_type": "code",
   "id": "54d0d64e4891cdb1",
   "metadata": {
    "ExecuteTime": {
     "end_time": "2025-08-13T16:14:08.893144Z",
     "start_time": "2025-08-13T16:14:08.891490Z"
    }
   },
   "source": [
    "def auto_correlated_tension(sheet, manager, sigma, phi):\n",
    "    \"\"\"\n",
    "    Parameters:\n",
    "    sheet: tyssue.Sheet object\n",
    "    manager: EventManager object\n",
    "    sigma: float, standard deviation\n",
    "    phi: float, autocorrelation factor between 0 and 1 (AR(1) autocorrelation factor)\n",
    "        closer to 1 means stronger correlation\n",
    "    Returns:\n",
    "    updates sheet.edge_df[\"line_tension\"]\n",
    "    \"\"\"\n",
    "    noise = np.random.normal(loc=0, scale=sigma, size=len(sheet.edge_df[\"line_tension\"]))\n",
    "    sheet.edge_df[\"line_tension\"] =  phi * sheet.edge_df[\"line_tension\"] + noise\n",
    "    manager.append(auto_correlated_tension, sigma=sigma, phi=phi)"
   ],
   "outputs": [],
   "execution_count": 5
  },
  {
   "cell_type": "code",
   "id": "60705e2eb2201589",
   "metadata": {
    "ExecuteTime": {
     "end_time": "2025-08-13T16:14:08.897659Z",
     "start_time": "2025-08-13T16:14:08.896353Z"
    }
   },
   "source": [
    "# def update_stem_cells(eptm):\n",
    "#     eptm.face_df['stem_cell'] = 0\n",
    "#     eptm.face_df['dying_cell'] = 0\n",
    "#     eptm.face_df.loc[(eptm.face_df[\"boundary\"] != 1) & (eptm.face_df[\"z\"] < 0), \"stem_cell\"] = 1\n",
    "#     eptm.face_df.loc[(eptm.face_df[\"z\"] > 0), \"dying_cell\"] = 1"
   ],
   "outputs": [],
   "execution_count": 6
  },
  {
   "cell_type": "code",
   "id": "2f62a096c47f87ec",
   "metadata": {
    "ExecuteTime": {
     "end_time": "2025-08-13T16:14:09.865513Z",
     "start_time": "2025-08-13T16:14:08.901182Z"
    }
   },
   "source": [
    "radius = 2.576\n",
    "#generate cylindrical tissue\n",
    "points_xyz = hexa_cylinder(16,30, radius = radius, noise = 0.0, capped = True)\n",
    "sheet = sheet_from_cell_centers(points_xyz)\n",
    "sheet = sheet.extract_bounding_box(z_boundary = (-10.1, 30), coords=['x', 'y', 'z'])\n",
    "sheet.sanitize(trim_borders=False)\n",
    "create_anchors(sheet)\n",
    "sheet = sheet.extract_bounding_box(z_boundary = (-10.1, 10), coords=['x', 'y', 'z'])\n",
    "sheet.sanitize(trim_borders=False)\n",
    "geom.update_all(sheet)\n",
    "sheet.network_changed = False"
   ],
   "outputs": [
    {
     "name": "stderr",
     "output_type": "stream",
     "text": [
      "/Users/tasnifrahman/PycharmProjects/vivatyssue/src/tyssue/generation/modifiers.py:193: FutureWarning: The behavior of DataFrame concatenation with empty or all-NA entries is deprecated. In a future version, this will no longer exclude empty or all-NA columns when determining the result dtypes. To retain the old behavior, exclude the relevant entries before the concat operation.\n",
      "  sheet.edge_df = pd.concat([sheet.edge_df, anchor_edge_df], sort=True)\n"
     ]
    }
   ],
   "execution_count": 7
  },
  {
   "cell_type": "code",
   "id": "b2a668a8d325ffa2",
   "metadata": {
    "ExecuteTime": {
     "end_time": "2025-08-13T16:14:09.879261Z",
     "start_time": "2025-08-13T16:14:09.875543Z"
    }
   },
   "source": [
    "sheet.face_df.loc[(sheet.face_df[\"z\"]<8) & (sheet.face_df[\"z\"]>-8), \"area\"].mean()"
   ],
   "outputs": [
    {
     "data": {
      "text/plain": [
       "np.float64(1.0001577509936472)"
      ]
     },
     "execution_count": 8,
     "metadata": {},
     "output_type": "execute_result"
    }
   ],
   "execution_count": 8
  },
  {
   "cell_type": "code",
   "id": "4650acebb75d0958",
   "metadata": {
    "ExecuteTime": {
     "end_time": "2025-08-13T16:14:09.919105Z",
     "start_time": "2025-08-13T16:14:09.894844Z"
    }
   },
   "source": [
    "draw_specs = tyssue.config.draw.sheet_spec()\n",
    "draw_specs[\"face\"][\"visible\"] = True\n",
    "draw_specs[\"face\"][\"visibles\"] = True\n",
    "draw_specs[\"face\"][\"alpha\"] = 0.2\n",
    "ipv.clear()\n",
    "fig, mesh = sheet_view(sheet, coords=['x', 'y', 'z'], mode=\"3D\", **draw_specs)\n",
    "ipv.pylab.xyzlabel(\"x-axis\", \"y-axis\", \"z-axis\")\n",
    "ipv.pylab.style.axes_on()\n",
    "fig"
   ],
   "outputs": [
    {
     "data": {
      "text/plain": [
       "Figure(box_center=[0.5, 0.5, 0.5], box_size=[1.0, 1.0, 1.0], camera=PerspectiveCamera(fov=45.0, position=(0.0,…"
      ],
      "application/vnd.jupyter.widget-view+json": {
       "version_major": 2,
       "version_minor": 0,
       "model_id": "12cf1e427faf4aa4a190df755ba0f3a8"
      }
     },
     "execution_count": 9,
     "metadata": {},
     "output_type": "execute_result"
    }
   ],
   "execution_count": 9
  },
  {
   "cell_type": "code",
   "id": "e221d4db4951b65d",
   "metadata": {
    "ExecuteTime": {
     "end_time": "2025-08-13T16:14:09.941886Z",
     "start_time": "2025-08-13T16:14:09.939865Z"
    }
   },
   "source": [
    "#generate model\n",
    "model = model_factory_vessel([\n",
    "    effectors.LineTension,\n",
    "    effectors.FaceAreaElasticity,\n",
    "    effectors.PerimeterElasticity,\n",
    "], effectors.FaceAreaElasticity)"
   ],
   "outputs": [],
   "execution_count": 10
  },
  {
   "cell_type": "code",
   "id": "76a86fee7625f924",
   "metadata": {
    "ExecuteTime": {
     "end_time": "2025-08-13T16:14:09.968466Z",
     "start_time": "2025-08-13T16:14:09.956022Z"
    }
   },
   "source": [
    "#set model parameters\n",
    "sheet.face_df[\"area_elasticity\"] = 1\n",
    "sheet.face_df[\"prefered_area\"] = 1\n",
    "sheet.face_df[\"perimeter_elasticity\"] = 1\n",
    "sheet.face_df[\"prefered_perimeter\"] = 3.5\n",
    "sheet.edge_df[\"line_tension\"] = np.random.normal(loc=0, scale=0.01, size=len(sheet.edge_df))\n",
    "sheet.edge_df[\"is_active\"] = 1\n",
    "sheet.vert_df[\"viscosity\"] = 5\n",
    "sheet.vert_df[\"prefered_deviation\"] = 0\n",
    "sheet.vert_df[\"surface_elasticity\"] = 5\n",
    "sheet.settings[\"threshold_length\"] = 0.1\n",
    "geom.update_all(sheet)"
   ],
   "outputs": [],
   "execution_count": 11
  },
  {
   "cell_type": "code",
   "id": "3010b76307f833b",
   "metadata": {
    "ExecuteTime": {
     "end_time": "2025-08-13T16:14:09.994230Z",
     "start_time": "2025-08-13T16:14:09.990505Z"
    }
   },
   "source": [
    "sheet.edge_df[\"face\"]"
   ],
   "outputs": [
    {
     "data": {
      "text/plain": [
       "edge\n",
       "0       123\n",
       "1       123\n",
       "2       123\n",
       "3       123\n",
       "4       123\n",
       "       ... \n",
       "1915    284\n",
       "1916    284\n",
       "1917    284\n",
       "1918    284\n",
       "1919     68\n",
       "Name: face, Length: 1920, dtype: int64"
      ]
     },
     "execution_count": 12,
     "metadata": {},
     "output_type": "execute_result"
    }
   ],
   "execution_count": 12
  },
  {
   "cell_type": "code",
   "id": "73448ff2ab84403",
   "metadata": {
    "ExecuteTime": {
     "end_time": "2025-08-13T16:14:10.028946Z",
     "start_time": "2025-08-13T16:14:10.023810Z"
    }
   },
   "source": [
    "history = History(sheet)"
   ],
   "outputs": [],
   "execution_count": 13
  },
  {
   "cell_type": "code",
   "id": "51a25973-3e63-491a-a2ea-05afe8a1fd4c",
   "metadata": {
    "ExecuteTime": {
     "end_time": "2025-08-13T16:14:10.065819Z",
     "start_time": "2025-08-13T16:14:10.064043Z"
    }
   },
   "source": [
    "#set time-step\n",
    "dt=0.1"
   ],
   "outputs": [],
   "execution_count": 14
  },
  {
   "cell_type": "code",
   "id": "ede225a408712e92",
   "metadata": {
    "ExecuteTime": {
     "end_time": "2025-08-13T16:14:10.096439Z",
     "start_time": "2025-08-13T16:14:10.094098Z"
    }
   },
   "source": [
    "#initialize manager and add division and apoptosis\n",
    "#set division and apoptosis parameters\n",
    "manager = EventManager()\n",
    "manager.append(divide_cylinder, geom=geom, division_rate=0.0005, dt=dt, radius=radius)\n",
    "manager.append(apoptosis_cylinder, death_rate=0.0005, dt=dt, radius=radius, geom=geom)\n",
    "manager.append(auto_correlated_tension, sigma = 0.01, phi=0.5)"
   ],
   "outputs": [],
   "execution_count": 15
  },
  {
   "cell_type": "code",
   "id": "b72132728919cb1f",
   "metadata": {
    "ExecuteTime": {
     "end_time": "2025-08-13T16:14:10.110007Z",
     "start_time": "2025-08-13T16:14:10.108253Z"
    }
   },
   "source": [
    "#initialize solver\n",
    "solver = EulerSolver(\n",
    "    sheet,\n",
    "    geom,\n",
    "    model,\n",
    "    history=history,\n",
    "    auto_reconnect=True,\n",
    "    manager=manager,\n",
    ")"
   ],
   "outputs": [],
   "execution_count": 16
  },
  {
   "cell_type": "code",
   "id": "f676b918f00c4e1c",
   "metadata": {
    "ExecuteTime": {
     "end_time": "2025-08-13T16:14:10.127730Z",
     "start_time": "2025-08-13T16:14:10.124578Z"
    }
   },
   "source": [
    "sheet.edge_df[\"is_active\"]"
   ],
   "outputs": [
    {
     "data": {
      "text/plain": [
       "edge\n",
       "0       1\n",
       "1       1\n",
       "2       1\n",
       "3       1\n",
       "4       1\n",
       "       ..\n",
       "1915    1\n",
       "1916    1\n",
       "1917    1\n",
       "1918    1\n",
       "1919    1\n",
       "Name: is_active, Length: 1920, dtype: int64"
      ]
     },
     "execution_count": 17,
     "metadata": {},
     "output_type": "execute_result"
    }
   ],
   "execution_count": 17
  },
  {
   "cell_type": "code",
   "id": "2c1282746ec53ce6",
   "metadata": {
    "scrolled": true,
    "jupyter": {
     "is_executing": true
    },
    "ExecuteTime": {
     "start_time": "2025-08-13T16:14:10.156675Z"
    }
   },
   "source": [
    "#set time variables\n",
    "dt = dt\n",
    "tf = 2000\n",
    "sheet.settings[\"dt\"] = dt\n",
    "sheet.settings[\"p_4\"] = 1/(dt)\n",
    "sheet.settings[\"p_5p\"] = 1/(dt)\n",
    "#run simulation\n",
    "start = time.time()\n",
    "res = solver.solve(tf=tf, dt = dt)\n",
    "print(f\"Time Elapsed: {time.time()-start}\")"
   ],
   "outputs": [],
   "execution_count": null
  },
  {
   "cell_type": "code",
   "execution_count": 19,
   "id": "1bff12b7-ad88-429f-b552-32cca82cfe5a",
   "metadata": {
    "ExecuteTime": {
     "end_time": "2025-08-13T16:13:38.040567Z",
     "start_time": "2025-08-05T16:53:26.195590Z"
    }
   },
   "outputs": [
    {
     "data": {
      "text/html": [
       "<div>\n",
       "<style scoped>\n",
       "    .dataframe tbody tr th:only-of-type {\n",
       "        vertical-align: middle;\n",
       "    }\n",
       "\n",
       "    .dataframe tbody tr th {\n",
       "        vertical-align: top;\n",
       "    }\n",
       "\n",
       "    .dataframe thead th {\n",
       "        text-align: right;\n",
       "    }\n",
       "</style>\n",
       "<table border=\"1\" class=\"dataframe\">\n",
       "  <thead>\n",
       "    <tr style=\"text-align: right;\">\n",
       "      <th></th>\n",
       "      <th>at_border</th>\n",
       "      <th>boundary</th>\n",
       "      <th>cell</th>\n",
       "      <th>cell_o</th>\n",
       "      <th>cx</th>\n",
       "      <th>cy</th>\n",
       "      <th>cz</th>\n",
       "      <th>dx</th>\n",
       "      <th>dy</th>\n",
       "      <th>dz</th>\n",
       "      <th>...</th>\n",
       "      <th>trgt</th>\n",
       "      <th>trgt_o</th>\n",
       "      <th>tx</th>\n",
       "      <th>ty</th>\n",
       "      <th>tz</th>\n",
       "      <th>unique_id</th>\n",
       "      <th>unique_id_max</th>\n",
       "      <th>ux</th>\n",
       "      <th>uy</th>\n",
       "      <th>uz</th>\n",
       "    </tr>\n",
       "    <tr>\n",
       "      <th>edge</th>\n",
       "      <th></th>\n",
       "      <th></th>\n",
       "      <th></th>\n",
       "      <th></th>\n",
       "      <th></th>\n",
       "      <th></th>\n",
       "      <th></th>\n",
       "      <th></th>\n",
       "      <th></th>\n",
       "      <th></th>\n",
       "      <th></th>\n",
       "      <th></th>\n",
       "      <th></th>\n",
       "      <th></th>\n",
       "      <th></th>\n",
       "      <th></th>\n",
       "      <th></th>\n",
       "      <th></th>\n",
       "      <th></th>\n",
       "      <th></th>\n",
       "      <th></th>\n",
       "    </tr>\n",
       "  </thead>\n",
       "  <tbody>\n",
       "    <tr>\n",
       "      <th>0</th>\n",
       "      <td>0</td>\n",
       "      <td>0</td>\n",
       "      <td>0</td>\n",
       "      <td>0</td>\n",
       "      <td>0.0</td>\n",
       "      <td>0.0</td>\n",
       "      <td>0.0</td>\n",
       "      <td>-0.008241</td>\n",
       "      <td>-0.010771</td>\n",
       "      <td>0.618845</td>\n",
       "      <td>...</td>\n",
       "      <td>26</td>\n",
       "      <td>410</td>\n",
       "      <td>-2.049970</td>\n",
       "      <td>1.559936</td>\n",
       "      <td>6.772272</td>\n",
       "      <td>0</td>\n",
       "      <td>6120</td>\n",
       "      <td>-0.013314</td>\n",
       "      <td>-0.017401</td>\n",
       "      <td>0.999759</td>\n",
       "    </tr>\n",
       "    <tr>\n",
       "      <th>1</th>\n",
       "      <td>0</td>\n",
       "      <td>0</td>\n",
       "      <td>0</td>\n",
       "      <td>0</td>\n",
       "      <td>0.0</td>\n",
       "      <td>0.0</td>\n",
       "      <td>0.0</td>\n",
       "      <td>0.017060</td>\n",
       "      <td>-0.285383</td>\n",
       "      <td>-0.243086</td>\n",
       "      <td>...</td>\n",
       "      <td>424</td>\n",
       "      <td>844</td>\n",
       "      <td>-2.558917</td>\n",
       "      <td>-0.296174</td>\n",
       "      <td>-6.927873</td>\n",
       "      <td>10</td>\n",
       "      <td>6120</td>\n",
       "      <td>0.045460</td>\n",
       "      <td>-0.760445</td>\n",
       "      <td>-0.647738</td>\n",
       "    </tr>\n",
       "    <tr>\n",
       "      <th>2</th>\n",
       "      <td>0</td>\n",
       "      <td>0</td>\n",
       "      <td>0</td>\n",
       "      <td>0</td>\n",
       "      <td>0.0</td>\n",
       "      <td>0.0</td>\n",
       "      <td>0.0</td>\n",
       "      <td>-0.197723</td>\n",
       "      <td>0.760734</td>\n",
       "      <td>-0.314483</td>\n",
       "      <td>...</td>\n",
       "      <td>130</td>\n",
       "      <td>842</td>\n",
       "      <td>-2.562840</td>\n",
       "      <td>-0.260048</td>\n",
       "      <td>-6.369028</td>\n",
       "      <td>12</td>\n",
       "      <td>6120</td>\n",
       "      <td>-0.233519</td>\n",
       "      <td>0.898456</td>\n",
       "      <td>-0.371417</td>\n",
       "    </tr>\n",
       "    <tr>\n",
       "      <th>3</th>\n",
       "      <td>0</td>\n",
       "      <td>0</td>\n",
       "      <td>0</td>\n",
       "      <td>0</td>\n",
       "      <td>0.0</td>\n",
       "      <td>0.0</td>\n",
       "      <td>0.0</td>\n",
       "      <td>-0.064084</td>\n",
       "      <td>0.132503</td>\n",
       "      <td>0.831375</td>\n",
       "      <td>...</td>\n",
       "      <td>423</td>\n",
       "      <td>841</td>\n",
       "      <td>-2.350115</td>\n",
       "      <td>-1.054862</td>\n",
       "      <td>-6.934672</td>\n",
       "      <td>14</td>\n",
       "      <td>6120</td>\n",
       "      <td>-0.075901</td>\n",
       "      <td>0.156936</td>\n",
       "      <td>0.984680</td>\n",
       "    </tr>\n",
       "    <tr>\n",
       "      <th>4</th>\n",
       "      <td>0</td>\n",
       "      <td>0</td>\n",
       "      <td>0</td>\n",
       "      <td>0</td>\n",
       "      <td>0.0</td>\n",
       "      <td>0.0</td>\n",
       "      <td>0.0</td>\n",
       "      <td>0.188915</td>\n",
       "      <td>-0.472931</td>\n",
       "      <td>0.228710</td>\n",
       "      <td>...</td>\n",
       "      <td>128</td>\n",
       "      <td>840</td>\n",
       "      <td>-2.286032</td>\n",
       "      <td>-1.187365</td>\n",
       "      <td>-7.766047</td>\n",
       "      <td>16</td>\n",
       "      <td>6120</td>\n",
       "      <td>0.338281</td>\n",
       "      <td>-0.846855</td>\n",
       "      <td>0.409540</td>\n",
       "    </tr>\n",
       "    <tr>\n",
       "      <th>...</th>\n",
       "      <td>...</td>\n",
       "      <td>...</td>\n",
       "      <td>...</td>\n",
       "      <td>...</td>\n",
       "      <td>...</td>\n",
       "      <td>...</td>\n",
       "      <td>...</td>\n",
       "      <td>...</td>\n",
       "      <td>...</td>\n",
       "      <td>...</td>\n",
       "      <td>...</td>\n",
       "      <td>...</td>\n",
       "      <td>...</td>\n",
       "      <td>...</td>\n",
       "      <td>...</td>\n",
       "      <td>...</td>\n",
       "      <td>...</td>\n",
       "      <td>...</td>\n",
       "      <td>...</td>\n",
       "      <td>...</td>\n",
       "      <td>...</td>\n",
       "    </tr>\n",
       "    <tr>\n",
       "      <th>1767</th>\n",
       "      <td>0</td>\n",
       "      <td>0</td>\n",
       "      <td>0</td>\n",
       "      <td>0</td>\n",
       "      <td>0.0</td>\n",
       "      <td>0.0</td>\n",
       "      <td>0.0</td>\n",
       "      <td>-0.000173</td>\n",
       "      <td>0.000016</td>\n",
       "      <td>0.119858</td>\n",
       "      <td>...</td>\n",
       "      <td>604</td>\n",
       "      <td>449</td>\n",
       "      <td>0.244245</td>\n",
       "      <td>2.564395</td>\n",
       "      <td>6.105748</td>\n",
       "      <td>2242</td>\n",
       "      <td>6120</td>\n",
       "      <td>-0.001445</td>\n",
       "      <td>0.000138</td>\n",
       "      <td>0.999998</td>\n",
       "    </tr>\n",
       "    <tr>\n",
       "      <th>1768</th>\n",
       "      <td>0</td>\n",
       "      <td>0</td>\n",
       "      <td>0</td>\n",
       "      <td>0</td>\n",
       "      <td>0.0</td>\n",
       "      <td>0.0</td>\n",
       "      <td>0.0</td>\n",
       "      <td>-0.014753</td>\n",
       "      <td>0.055357</td>\n",
       "      <td>0.186684</td>\n",
       "      <td>...</td>\n",
       "      <td>614</td>\n",
       "      <td>839</td>\n",
       "      <td>-2.496348</td>\n",
       "      <td>-0.635628</td>\n",
       "      <td>-9.210861</td>\n",
       "      <td>865</td>\n",
       "      <td>6120</td>\n",
       "      <td>-0.075547</td>\n",
       "      <td>0.283480</td>\n",
       "      <td>0.955999</td>\n",
       "    </tr>\n",
       "    <tr>\n",
       "      <th>1769</th>\n",
       "      <td>0</td>\n",
       "      <td>0</td>\n",
       "      <td>0</td>\n",
       "      <td>0</td>\n",
       "      <td>0.0</td>\n",
       "      <td>0.0</td>\n",
       "      <td>0.0</td>\n",
       "      <td>0.014753</td>\n",
       "      <td>-0.055357</td>\n",
       "      <td>-0.186684</td>\n",
       "      <td>...</td>\n",
       "      <td>81</td>\n",
       "      <td>681</td>\n",
       "      <td>-2.481595</td>\n",
       "      <td>-0.690985</td>\n",
       "      <td>-9.397545</td>\n",
       "      <td>1905</td>\n",
       "      <td>6120</td>\n",
       "      <td>0.075547</td>\n",
       "      <td>-0.283480</td>\n",
       "      <td>-0.955999</td>\n",
       "    </tr>\n",
       "    <tr>\n",
       "      <th>1770</th>\n",
       "      <td>0</td>\n",
       "      <td>0</td>\n",
       "      <td>0</td>\n",
       "      <td>0</td>\n",
       "      <td>0.0</td>\n",
       "      <td>0.0</td>\n",
       "      <td>0.0</td>\n",
       "      <td>-0.167479</td>\n",
       "      <td>0.268285</td>\n",
       "      <td>-0.040059</td>\n",
       "      <td>...</td>\n",
       "      <td>615</td>\n",
       "      <td>51</td>\n",
       "      <td>-2.264789</td>\n",
       "      <td>-1.227398</td>\n",
       "      <td>6.545962</td>\n",
       "      <td>1287</td>\n",
       "      <td>6120</td>\n",
       "      <td>-0.525407</td>\n",
       "      <td>0.841649</td>\n",
       "      <td>-0.125671</td>\n",
       "    </tr>\n",
       "    <tr>\n",
       "      <th>1771</th>\n",
       "      <td>0</td>\n",
       "      <td>0</td>\n",
       "      <td>0</td>\n",
       "      <td>0</td>\n",
       "      <td>0.0</td>\n",
       "      <td>0.0</td>\n",
       "      <td>0.0</td>\n",
       "      <td>0.167479</td>\n",
       "      <td>-0.268285</td>\n",
       "      <td>0.040059</td>\n",
       "      <td>...</td>\n",
       "      <td>1</td>\n",
       "      <td>485</td>\n",
       "      <td>-2.097310</td>\n",
       "      <td>-1.495682</td>\n",
       "      <td>6.586021</td>\n",
       "      <td>1803</td>\n",
       "      <td>6120</td>\n",
       "      <td>0.525407</td>\n",
       "      <td>-0.841649</td>\n",
       "      <td>0.125671</td>\n",
       "    </tr>\n",
       "  </tbody>\n",
       "</table>\n",
       "<p>1772 rows × 45 columns</p>\n",
       "</div>"
      ],
      "text/plain": [
       "      at_border  boundary cell cell_o   cx   cy   cz        dx        dy  \\\n",
       "edge                                                                       \n",
       "0             0         0    0      0  0.0  0.0  0.0 -0.008241 -0.010771   \n",
       "1             0         0    0      0  0.0  0.0  0.0  0.017060 -0.285383   \n",
       "2             0         0    0      0  0.0  0.0  0.0 -0.197723  0.760734   \n",
       "3             0         0    0      0  0.0  0.0  0.0 -0.064084  0.132503   \n",
       "4             0         0    0      0  0.0  0.0  0.0  0.188915 -0.472931   \n",
       "...         ...       ...  ...    ...  ...  ...  ...       ...       ...   \n",
       "1767          0         0    0      0  0.0  0.0  0.0 -0.000173  0.000016   \n",
       "1768          0         0    0      0  0.0  0.0  0.0 -0.014753  0.055357   \n",
       "1769          0         0    0      0  0.0  0.0  0.0  0.014753 -0.055357   \n",
       "1770          0         0    0      0  0.0  0.0  0.0 -0.167479  0.268285   \n",
       "1771          0         0    0      0  0.0  0.0  0.0  0.167479 -0.268285   \n",
       "\n",
       "            dz  ... trgt  trgt_o        tx        ty        tz  unique_id  \\\n",
       "edge            ...                                                         \n",
       "0     0.618845  ...   26     410 -2.049970  1.559936  6.772272          0   \n",
       "1    -0.243086  ...  424     844 -2.558917 -0.296174 -6.927873         10   \n",
       "2    -0.314483  ...  130     842 -2.562840 -0.260048 -6.369028         12   \n",
       "3     0.831375  ...  423     841 -2.350115 -1.054862 -6.934672         14   \n",
       "4     0.228710  ...  128     840 -2.286032 -1.187365 -7.766047         16   \n",
       "...        ...  ...  ...     ...       ...       ...       ...        ...   \n",
       "1767  0.119858  ...  604     449  0.244245  2.564395  6.105748       2242   \n",
       "1768  0.186684  ...  614     839 -2.496348 -0.635628 -9.210861        865   \n",
       "1769 -0.186684  ...   81     681 -2.481595 -0.690985 -9.397545       1905   \n",
       "1770 -0.040059  ...  615      51 -2.264789 -1.227398  6.545962       1287   \n",
       "1771  0.040059  ...    1     485 -2.097310 -1.495682  6.586021       1803   \n",
       "\n",
       "      unique_id_max        ux        uy        uz  \n",
       "edge                                               \n",
       "0              6120 -0.013314 -0.017401  0.999759  \n",
       "1              6120  0.045460 -0.760445 -0.647738  \n",
       "2              6120 -0.233519  0.898456 -0.371417  \n",
       "3              6120 -0.075901  0.156936  0.984680  \n",
       "4              6120  0.338281 -0.846855  0.409540  \n",
       "...             ...       ...       ...       ...  \n",
       "1767           6120 -0.001445  0.000138  0.999998  \n",
       "1768           6120 -0.075547  0.283480  0.955999  \n",
       "1769           6120  0.075547 -0.283480 -0.955999  \n",
       "1770           6120 -0.525407  0.841649 -0.125671  \n",
       "1771           6120  0.525407 -0.841649  0.125671  \n",
       "\n",
       "[1772 rows x 45 columns]"
      ]
     },
     "execution_count": 19,
     "metadata": {},
     "output_type": "execute_result"
    }
   ],
   "source": [
    "sheet.edge_df"
   ]
  },
  {
   "cell_type": "code",
   "execution_count": 20,
   "id": "8574a3643a81de94",
   "metadata": {
    "ExecuteTime": {
     "end_time": "2025-08-13T16:13:38.043628Z",
     "start_time": "2025-08-06T17:06:00.618853Z"
    }
   },
   "outputs": [],
   "source": [
    "ipv.clear()"
   ]
  },
  {
   "cell_type": "code",
   "execution_count": 21,
   "id": "403787658ae3d684",
   "metadata": {
    "ExecuteTime": {
     "end_time": "2025-08-13T16:13:38.045040Z",
     "start_time": "2025-08-06T17:06:01.068347Z"
    }
   },
   "outputs": [
    {
     "data": {
      "application/vnd.jupyter.widget-view+json": {
       "model_id": "66b18dfd067a4651b0ac6fdfc08b9ba9",
       "version_major": 2,
       "version_minor": 0
      },
      "text/plain": [
       "Container(figure=Figure(box_center=[0.5, 0.5, 0.5], box_size=[1.0, 1.0, 1.0], camera=PerspectiveCamera(fov=45.…"
      ]
     },
     "metadata": {},
     "output_type": "display_data"
    },
    {
     "data": {
      "application/vnd.jupyter.widget-view+json": {
       "model_id": "aa8e661278bf4c81aa41a6c600429229",
       "version_major": 2,
       "version_minor": 0
      },
      "text/plain": [
       "interactive(children=(IntSlider(value=0, description='i', max=20000), Output()), _dom_classes=('widget-interac…"
      ]
     },
     "metadata": {},
     "output_type": "display_data"
    }
   ],
   "source": [
    "ipv.clear()\n",
    "browse_history(history,**draw_specs)"
   ]
  },
  {
   "cell_type": "code",
   "execution_count": 22,
   "id": "ae478934d3197968",
   "metadata": {
    "ExecuteTime": {
     "end_time": "2025-08-13T16:13:38.053014Z",
     "start_time": "2025-08-05T16:53:26.349153Z"
    }
   },
   "outputs": [
    {
     "data": {
      "text/plain": [
       "299"
      ]
     },
     "execution_count": 22,
     "metadata": {},
     "output_type": "execute_result"
    }
   ],
   "source": [
    "len(sheet.face_df)"
   ]
  },
  {
   "cell_type": "code",
   "execution_count": 23,
   "id": "c4457c2572194684",
   "metadata": {
    "ExecuteTime": {
     "end_time": "2025-08-13T16:13:38.053718Z",
     "start_time": "2025-08-06T17:03:09.697809Z"
    }
   },
   "outputs": [
    {
     "data": {
      "text/plain": [
       "edge\n",
       "0       1\n",
       "1       1\n",
       "2       1\n",
       "3       1\n",
       "4       1\n",
       "       ..\n",
       "1767    1\n",
       "1768    1\n",
       "1769    1\n",
       "1770    1\n",
       "1771    1\n",
       "Name: is_active, Length: 1772, dtype: int64"
      ]
     },
     "execution_count": 23,
     "metadata": {},
     "output_type": "execute_result"
    }
   ],
   "source": [
    "sheet.edge_df[\"is_active\"]"
   ]
  },
  {
   "cell_type": "code",
   "execution_count": 24,
   "id": "b037b797c44fc4d3",
   "metadata": {
    "ExecuteTime": {
     "end_time": "2025-08-13T16:13:38.070377Z",
     "start_time": "2025-08-05T16:58:37.957170Z"
    }
   },
   "outputs": [
    {
     "data": {
      "application/vnd.jupyter.widget-view+json": {
       "model_id": "a6b81b29f18a40d2a63feeebf682e70f",
       "version_major": 2,
       "version_minor": 0
      },
      "text/plain": [
       "Figure(box_center=[0.5, 0.5, 0.5], box_size=[1.0, 1.0, 1.0], camera=PerspectiveCamera(fov=45.0, position=(0.0,…"
      ]
     },
     "execution_count": 24,
     "metadata": {},
     "output_type": "execute_result"
    }
   ],
   "source": [
    "ipv.clear()\n",
    "fig, mesh = sheet_view(sheet, coords=['x', 'y', 'z'], mode=\"3D\", **draw_specs)\n",
    "ipv.pylab.xyzlabel(\"x-axis\", \"y-axis\", \"z-axis\")\n",
    "ipv.pylab.style.axes_on()\n",
    "fig"
   ]
  },
  {
   "cell_type": "code",
   "execution_count": 25,
   "id": "c634e8c143ef985d",
   "metadata": {},
   "outputs": [],
   "source": [
    "sheet1 = history.retrieve(0.0)"
   ]
  },
  {
   "cell_type": "code",
   "execution_count": 26,
   "id": "5f7fa8cf-03a1-4eb1-a494-fdcc3dd75061",
   "metadata": {},
   "outputs": [
    {
     "data": {
      "text/html": [
       "<div>\n",
       "<style scoped>\n",
       "    .dataframe tbody tr th:only-of-type {\n",
       "        vertical-align: middle;\n",
       "    }\n",
       "\n",
       "    .dataframe tbody tr th {\n",
       "        vertical-align: top;\n",
       "    }\n",
       "\n",
       "    .dataframe thead th {\n",
       "        text-align: right;\n",
       "    }\n",
       "</style>\n",
       "<table border=\"1\" class=\"dataframe\">\n",
       "  <thead>\n",
       "    <tr style=\"text-align: right;\">\n",
       "      <th></th>\n",
       "      <th>at_border</th>\n",
       "      <th>boundary</th>\n",
       "      <th>cell</th>\n",
       "      <th>cell_o</th>\n",
       "      <th>cx</th>\n",
       "      <th>cy</th>\n",
       "      <th>cz</th>\n",
       "      <th>dx</th>\n",
       "      <th>dy</th>\n",
       "      <th>dz</th>\n",
       "      <th>...</th>\n",
       "      <th>trgt</th>\n",
       "      <th>trgt_o</th>\n",
       "      <th>tx</th>\n",
       "      <th>ty</th>\n",
       "      <th>tz</th>\n",
       "      <th>unique_id</th>\n",
       "      <th>unique_id_max</th>\n",
       "      <th>ux</th>\n",
       "      <th>uy</th>\n",
       "      <th>uz</th>\n",
       "    </tr>\n",
       "    <tr>\n",
       "      <th>edge</th>\n",
       "      <th></th>\n",
       "      <th></th>\n",
       "      <th></th>\n",
       "      <th></th>\n",
       "      <th></th>\n",
       "      <th></th>\n",
       "      <th></th>\n",
       "      <th></th>\n",
       "      <th></th>\n",
       "      <th></th>\n",
       "      <th></th>\n",
       "      <th></th>\n",
       "      <th></th>\n",
       "      <th></th>\n",
       "      <th></th>\n",
       "      <th></th>\n",
       "      <th></th>\n",
       "      <th></th>\n",
       "      <th></th>\n",
       "      <th></th>\n",
       "      <th></th>\n",
       "    </tr>\n",
       "  </thead>\n",
       "  <tbody>\n",
       "    <tr>\n",
       "      <th>0</th>\n",
       "      <td>0</td>\n",
       "      <td>0</td>\n",
       "      <td>0</td>\n",
       "      <td>0</td>\n",
       "      <td>0.0</td>\n",
       "      <td>0.0</td>\n",
       "      <td>0.0</td>\n",
       "      <td>-0.008241</td>\n",
       "      <td>-0.010771</td>\n",
       "      <td>0.618845</td>\n",
       "      <td>...</td>\n",
       "      <td>26</td>\n",
       "      <td>410</td>\n",
       "      <td>-2.049970</td>\n",
       "      <td>1.559936</td>\n",
       "      <td>6.772272</td>\n",
       "      <td>0</td>\n",
       "      <td>6120</td>\n",
       "      <td>-0.013314</td>\n",
       "      <td>-0.017401</td>\n",
       "      <td>0.999759</td>\n",
       "    </tr>\n",
       "    <tr>\n",
       "      <th>1</th>\n",
       "      <td>0</td>\n",
       "      <td>0</td>\n",
       "      <td>0</td>\n",
       "      <td>0</td>\n",
       "      <td>0.0</td>\n",
       "      <td>0.0</td>\n",
       "      <td>0.0</td>\n",
       "      <td>0.017060</td>\n",
       "      <td>-0.285383</td>\n",
       "      <td>-0.243086</td>\n",
       "      <td>...</td>\n",
       "      <td>424</td>\n",
       "      <td>844</td>\n",
       "      <td>-2.558917</td>\n",
       "      <td>-0.296174</td>\n",
       "      <td>-6.927873</td>\n",
       "      <td>10</td>\n",
       "      <td>6120</td>\n",
       "      <td>0.045460</td>\n",
       "      <td>-0.760445</td>\n",
       "      <td>-0.647738</td>\n",
       "    </tr>\n",
       "    <tr>\n",
       "      <th>2</th>\n",
       "      <td>0</td>\n",
       "      <td>0</td>\n",
       "      <td>0</td>\n",
       "      <td>0</td>\n",
       "      <td>0.0</td>\n",
       "      <td>0.0</td>\n",
       "      <td>0.0</td>\n",
       "      <td>-0.197723</td>\n",
       "      <td>0.760734</td>\n",
       "      <td>-0.314483</td>\n",
       "      <td>...</td>\n",
       "      <td>130</td>\n",
       "      <td>842</td>\n",
       "      <td>-2.562840</td>\n",
       "      <td>-0.260048</td>\n",
       "      <td>-6.369028</td>\n",
       "      <td>12</td>\n",
       "      <td>6120</td>\n",
       "      <td>-0.233519</td>\n",
       "      <td>0.898456</td>\n",
       "      <td>-0.371417</td>\n",
       "    </tr>\n",
       "    <tr>\n",
       "      <th>3</th>\n",
       "      <td>0</td>\n",
       "      <td>0</td>\n",
       "      <td>0</td>\n",
       "      <td>0</td>\n",
       "      <td>0.0</td>\n",
       "      <td>0.0</td>\n",
       "      <td>0.0</td>\n",
       "      <td>-0.064084</td>\n",
       "      <td>0.132503</td>\n",
       "      <td>0.831375</td>\n",
       "      <td>...</td>\n",
       "      <td>423</td>\n",
       "      <td>841</td>\n",
       "      <td>-2.350115</td>\n",
       "      <td>-1.054862</td>\n",
       "      <td>-6.934672</td>\n",
       "      <td>14</td>\n",
       "      <td>6120</td>\n",
       "      <td>-0.075901</td>\n",
       "      <td>0.156936</td>\n",
       "      <td>0.984680</td>\n",
       "    </tr>\n",
       "    <tr>\n",
       "      <th>4</th>\n",
       "      <td>0</td>\n",
       "      <td>0</td>\n",
       "      <td>0</td>\n",
       "      <td>0</td>\n",
       "      <td>0.0</td>\n",
       "      <td>0.0</td>\n",
       "      <td>0.0</td>\n",
       "      <td>0.188915</td>\n",
       "      <td>-0.472931</td>\n",
       "      <td>0.228710</td>\n",
       "      <td>...</td>\n",
       "      <td>128</td>\n",
       "      <td>840</td>\n",
       "      <td>-2.286032</td>\n",
       "      <td>-1.187365</td>\n",
       "      <td>-7.766047</td>\n",
       "      <td>16</td>\n",
       "      <td>6120</td>\n",
       "      <td>0.338281</td>\n",
       "      <td>-0.846855</td>\n",
       "      <td>0.409540</td>\n",
       "    </tr>\n",
       "    <tr>\n",
       "      <th>...</th>\n",
       "      <td>...</td>\n",
       "      <td>...</td>\n",
       "      <td>...</td>\n",
       "      <td>...</td>\n",
       "      <td>...</td>\n",
       "      <td>...</td>\n",
       "      <td>...</td>\n",
       "      <td>...</td>\n",
       "      <td>...</td>\n",
       "      <td>...</td>\n",
       "      <td>...</td>\n",
       "      <td>...</td>\n",
       "      <td>...</td>\n",
       "      <td>...</td>\n",
       "      <td>...</td>\n",
       "      <td>...</td>\n",
       "      <td>...</td>\n",
       "      <td>...</td>\n",
       "      <td>...</td>\n",
       "      <td>...</td>\n",
       "      <td>...</td>\n",
       "    </tr>\n",
       "    <tr>\n",
       "      <th>1767</th>\n",
       "      <td>0</td>\n",
       "      <td>0</td>\n",
       "      <td>0</td>\n",
       "      <td>0</td>\n",
       "      <td>0.0</td>\n",
       "      <td>0.0</td>\n",
       "      <td>0.0</td>\n",
       "      <td>-0.000173</td>\n",
       "      <td>0.000016</td>\n",
       "      <td>0.119858</td>\n",
       "      <td>...</td>\n",
       "      <td>604</td>\n",
       "      <td>449</td>\n",
       "      <td>0.244245</td>\n",
       "      <td>2.564395</td>\n",
       "      <td>6.105748</td>\n",
       "      <td>2242</td>\n",
       "      <td>6120</td>\n",
       "      <td>-0.001445</td>\n",
       "      <td>0.000138</td>\n",
       "      <td>0.999998</td>\n",
       "    </tr>\n",
       "    <tr>\n",
       "      <th>1768</th>\n",
       "      <td>0</td>\n",
       "      <td>0</td>\n",
       "      <td>0</td>\n",
       "      <td>0</td>\n",
       "      <td>0.0</td>\n",
       "      <td>0.0</td>\n",
       "      <td>0.0</td>\n",
       "      <td>-0.014753</td>\n",
       "      <td>0.055357</td>\n",
       "      <td>0.186684</td>\n",
       "      <td>...</td>\n",
       "      <td>614</td>\n",
       "      <td>839</td>\n",
       "      <td>-2.496348</td>\n",
       "      <td>-0.635628</td>\n",
       "      <td>-9.210861</td>\n",
       "      <td>865</td>\n",
       "      <td>6120</td>\n",
       "      <td>-0.075547</td>\n",
       "      <td>0.283480</td>\n",
       "      <td>0.955999</td>\n",
       "    </tr>\n",
       "    <tr>\n",
       "      <th>1769</th>\n",
       "      <td>0</td>\n",
       "      <td>0</td>\n",
       "      <td>0</td>\n",
       "      <td>0</td>\n",
       "      <td>0.0</td>\n",
       "      <td>0.0</td>\n",
       "      <td>0.0</td>\n",
       "      <td>0.014753</td>\n",
       "      <td>-0.055357</td>\n",
       "      <td>-0.186684</td>\n",
       "      <td>...</td>\n",
       "      <td>81</td>\n",
       "      <td>681</td>\n",
       "      <td>-2.481595</td>\n",
       "      <td>-0.690985</td>\n",
       "      <td>-9.397545</td>\n",
       "      <td>1905</td>\n",
       "      <td>6120</td>\n",
       "      <td>0.075547</td>\n",
       "      <td>-0.283480</td>\n",
       "      <td>-0.955999</td>\n",
       "    </tr>\n",
       "    <tr>\n",
       "      <th>1770</th>\n",
       "      <td>0</td>\n",
       "      <td>0</td>\n",
       "      <td>0</td>\n",
       "      <td>0</td>\n",
       "      <td>0.0</td>\n",
       "      <td>0.0</td>\n",
       "      <td>0.0</td>\n",
       "      <td>-0.167479</td>\n",
       "      <td>0.268285</td>\n",
       "      <td>-0.040059</td>\n",
       "      <td>...</td>\n",
       "      <td>615</td>\n",
       "      <td>51</td>\n",
       "      <td>-2.264789</td>\n",
       "      <td>-1.227398</td>\n",
       "      <td>6.545962</td>\n",
       "      <td>1287</td>\n",
       "      <td>6120</td>\n",
       "      <td>-0.525407</td>\n",
       "      <td>0.841649</td>\n",
       "      <td>-0.125671</td>\n",
       "    </tr>\n",
       "    <tr>\n",
       "      <th>1771</th>\n",
       "      <td>0</td>\n",
       "      <td>0</td>\n",
       "      <td>0</td>\n",
       "      <td>0</td>\n",
       "      <td>0.0</td>\n",
       "      <td>0.0</td>\n",
       "      <td>0.0</td>\n",
       "      <td>0.167479</td>\n",
       "      <td>-0.268285</td>\n",
       "      <td>0.040059</td>\n",
       "      <td>...</td>\n",
       "      <td>1</td>\n",
       "      <td>485</td>\n",
       "      <td>-2.097310</td>\n",
       "      <td>-1.495682</td>\n",
       "      <td>6.586021</td>\n",
       "      <td>1803</td>\n",
       "      <td>6120</td>\n",
       "      <td>0.525407</td>\n",
       "      <td>-0.841649</td>\n",
       "      <td>0.125671</td>\n",
       "    </tr>\n",
       "  </tbody>\n",
       "</table>\n",
       "<p>1772 rows × 45 columns</p>\n",
       "</div>"
      ],
      "text/plain": [
       "      at_border  boundary cell cell_o   cx   cy   cz        dx        dy  \\\n",
       "edge                                                                       \n",
       "0             0         0    0      0  0.0  0.0  0.0 -0.008241 -0.010771   \n",
       "1             0         0    0      0  0.0  0.0  0.0  0.017060 -0.285383   \n",
       "2             0         0    0      0  0.0  0.0  0.0 -0.197723  0.760734   \n",
       "3             0         0    0      0  0.0  0.0  0.0 -0.064084  0.132503   \n",
       "4             0         0    0      0  0.0  0.0  0.0  0.188915 -0.472931   \n",
       "...         ...       ...  ...    ...  ...  ...  ...       ...       ...   \n",
       "1767          0         0    0      0  0.0  0.0  0.0 -0.000173  0.000016   \n",
       "1768          0         0    0      0  0.0  0.0  0.0 -0.014753  0.055357   \n",
       "1769          0         0    0      0  0.0  0.0  0.0  0.014753 -0.055357   \n",
       "1770          0         0    0      0  0.0  0.0  0.0 -0.167479  0.268285   \n",
       "1771          0         0    0      0  0.0  0.0  0.0  0.167479 -0.268285   \n",
       "\n",
       "            dz  ... trgt  trgt_o        tx        ty        tz  unique_id  \\\n",
       "edge            ...                                                         \n",
       "0     0.618845  ...   26     410 -2.049970  1.559936  6.772272          0   \n",
       "1    -0.243086  ...  424     844 -2.558917 -0.296174 -6.927873         10   \n",
       "2    -0.314483  ...  130     842 -2.562840 -0.260048 -6.369028         12   \n",
       "3     0.831375  ...  423     841 -2.350115 -1.054862 -6.934672         14   \n",
       "4     0.228710  ...  128     840 -2.286032 -1.187365 -7.766047         16   \n",
       "...        ...  ...  ...     ...       ...       ...       ...        ...   \n",
       "1767  0.119858  ...  604     449  0.244245  2.564395  6.105748       2242   \n",
       "1768  0.186684  ...  614     839 -2.496348 -0.635628 -9.210861        865   \n",
       "1769 -0.186684  ...   81     681 -2.481595 -0.690985 -9.397545       1905   \n",
       "1770 -0.040059  ...  615      51 -2.264789 -1.227398  6.545962       1287   \n",
       "1771  0.040059  ...    1     485 -2.097310 -1.495682  6.586021       1803   \n",
       "\n",
       "      unique_id_max        ux        uy        uz  \n",
       "edge                                               \n",
       "0              6120 -0.013314 -0.017401  0.999759  \n",
       "1              6120  0.045460 -0.760445 -0.647738  \n",
       "2              6120 -0.233519  0.898456 -0.371417  \n",
       "3              6120 -0.075901  0.156936  0.984680  \n",
       "4              6120  0.338281 -0.846855  0.409540  \n",
       "...             ...       ...       ...       ...  \n",
       "1767           6120 -0.001445  0.000138  0.999998  \n",
       "1768           6120 -0.075547  0.283480  0.955999  \n",
       "1769           6120  0.075547 -0.283480 -0.955999  \n",
       "1770           6120 -0.525407  0.841649 -0.125671  \n",
       "1771           6120  0.525407 -0.841649  0.125671  \n",
       "\n",
       "[1772 rows x 45 columns]"
      ]
     },
     "execution_count": 26,
     "metadata": {},
     "output_type": "execute_result"
    }
   ],
   "source": [
    "sheet.edge_df"
   ]
  },
  {
   "cell_type": "code",
   "execution_count": 27,
   "id": "fb1a9b32-c88d-46a2-bf07-7244cd16e934",
   "metadata": {},
   "outputs": [
    {
     "data": {
      "application/vnd.jupyter.widget-view+json": {
       "model_id": "e2b8b5daa5014357a88734e4da16545b",
       "version_major": 2,
       "version_minor": 0
      },
      "text/plain": [
       "Container(figure=Figure(box_center=[0.5, 0.5, 0.5], box_size=[1.0, 1.0, 1.0], camera=PerspectiveCamera(fov=45.…"
      ]
     },
     "metadata": {},
     "output_type": "display_data"
    },
    {
     "data": {
      "application/vnd.jupyter.widget-view+json": {
       "model_id": "cdc7880109fc457fa37b806cc040c3d2",
       "version_major": 2,
       "version_minor": 0
      },
      "text/plain": [
       "interactive(children=(IntSlider(value=0, description='i', max=20000), Output()), _dom_classes=('widget-interac…"
      ]
     },
     "metadata": {},
     "output_type": "display_data"
    }
   ],
   "source": [
    "ipv.clear()\n",
    "browse_history(history, **draw_specs)"
   ]
  },
  {
   "cell_type": "code",
   "execution_count": null,
   "id": "7461b868-0f83-4f10-a32a-9cc4d9c1f809",
   "metadata": {},
   "outputs": [],
   "source": []
  },
  {
   "cell_type": "code",
   "execution_count": null,
   "id": "815f8a38-183d-4cf1-8db7-a95ab4016fcc",
   "metadata": {},
   "outputs": [],
   "source": []
  },
  {
   "cell_type": "code",
   "execution_count": null,
   "id": "c332841c-b8ec-4be9-b1db-f95a3528718b",
   "metadata": {},
   "outputs": [],
   "source": []
  }
 ],
 "metadata": {
  "kernelspec": {
   "display_name": "Python 3 (ipykernel)",
   "language": "python",
   "name": "python3"
  },
  "language_info": {
   "codemirror_mode": {
    "name": "ipython",
    "version": 3
   },
   "file_extension": ".py",
   "mimetype": "text/x-python",
   "name": "python",
   "nbconvert_exporter": "python",
   "pygments_lexer": "ipython3",
   "version": "3.12.11"
  }
 },
 "nbformat": 4,
 "nbformat_minor": 5
}
