{
 "cells": [
  {
   "cell_type": "code",
   "execution_count": 1,
   "id": "initial_id",
   "metadata": {
    "ExecuteTime": {
     "end_time": "2025-08-06T17:20:51.761145Z",
     "start_time": "2025-08-06T17:20:50.123786Z"
    }
   },
   "outputs": [
    {
     "name": "stdout",
     "output_type": "stream",
     "text": [
      "C++ extensions are not available for this version\n",
      "collision solver could not be imported You may need to install CGAL and re-install tyssue\n"
     ]
    }
   ],
   "source": [
    "import random\n",
    "from pprint import pprint\n",
    "import io\n",
    "import imageio.v2 as imageio\n",
    "import matplotlib.pyplot as plt\n",
    "import numpy as np\n",
    "import time\n",
    "import logging\n",
    "\n",
    "import tyssue\n",
    "from tyssue import History\n",
    "from tyssue.dynamics import effectors, model_factory, model_factory_vessel, model_factory_cylinder\n",
    "from tyssue.generation.hexagonal_grids import hexa_cylinder\n",
    "from tyssue.generation.shapes import sheet_from_cell_centers\n",
    "from tyssue.geometry.sheet_geometry import CylinderGeometry, CylinderGeometryInit\n",
    "from tyssue import config\n",
    "from tyssue.draw import sheet_view, create_gif\n",
    "from tyssue.geometry.vessel_geometry import VesselGeometry as geom\n",
    "from tyssue.solvers.viscous import EulerSolver\n",
    "from tyssue.draw.ipv_draw import browse_history\n",
    "from tyssue.topology.sheet_topology import cell_division, drop_face, split_vert\n",
    "from tyssue.topology.base_topology import remove_face\n",
    "from tyssue.behaviors import EventManager\n",
    "from tyssue.generation.modifiers import create_anchors\n",
    "import ipyvolume as ipv\n",
    "\n",
    "from process_bigraph import Process, Composite, ProcessTypes\n",
    "from process_bigraph.emitter import emitter_from_wires, gather_emitter_results\n",
    "\n",
    "%load_ext snakeviz"
   ]
  },
  {
   "cell_type": "code",
   "execution_count": 2,
   "id": "f3b5254847a49d75",
   "metadata": {
    "ExecuteTime": {
     "end_time": "2025-08-06T17:20:51.766112Z",
     "start_time": "2025-08-06T17:20:51.764318Z"
    }
   },
   "outputs": [],
   "source": [
    "def fix_points_cylinder(sheet, radius):\n",
    "    xy = sheet.vert_df[['x', 'y']].to_numpy()\n",
    "    r = np.linalg.norm(xy, axis=1)\n",
    "    r_safe = np.where(r == 0, 1e-12, r)\n",
    "    xy_on_cylinder = (radius/r_safe)[:, None] * xy\n",
    "    sheet.vert_df['x'] = xy_on_cylinder[:, 0]\n",
    "    sheet.vert_df['y'] = xy_on_cylinder[:, 1]"
   ]
  },
  {
   "cell_type": "code",
   "execution_count": 3,
   "id": "a540521329af124b",
   "metadata": {
    "ExecuteTime": {
     "end_time": "2025-08-06T17:20:51.846249Z",
     "start_time": "2025-08-06T17:20:51.844147Z"
    }
   },
   "outputs": [],
   "source": [
    "def divide_cylinder(sheet, manager, geom, division_rate, dt, radius):\n",
    "    update_stem_cells(sheet)\n",
    "    stem_cells = sheet.face_df.loc[(sheet.face_df[\"stem_cell\"] == 1) & (sheet.face_df[\"area\"]>=0.7*sheet.face_df[\"area\"].mean())].copy()\n",
    "    n_stem = len(stem_cells)\n",
    "    cell_ids = list(stem_cells[\"unique_id\"])\n",
    "    n_divisions = np.random.binomial(n=n_stem, p=division_rate * dt)\n",
    "    dividing_cells = np.random.choice(cell_ids, size=n_divisions, replace=False)\n",
    "\n",
    "    for cell_id in dividing_cells:\n",
    "        cell_idx = int(sheet.face_df[sheet.face_df[\"unique_id\"] == cell_id].index[0])\n",
    "        daughter = cell_division(sheet, cell_idx, geom)\n",
    "    manager.append(divide_cylinder, geom=geom, division_rate=division_rate, dt=dt, radius=radius)\n",
    "    fix_points_cylinder(sheet, radius=radius)"
   ]
  },
  {
   "cell_type": "code",
   "execution_count": 4,
   "id": "3d7865e5e469f0f3",
   "metadata": {
    "ExecuteTime": {
     "end_time": "2025-08-06T17:20:51.851261Z",
     "start_time": "2025-08-06T17:20:51.849328Z"
    }
   },
   "outputs": [],
   "source": [
    "def apoptosis_cylinder(sheet, manager, death_rate, dt, radius, geom):\n",
    "    update_stem_cells(sheet)\n",
    "    dying_cells = sheet.face_df.loc[sheet.face_df[\"dying_cell\"] == 1]\n",
    "    n_dying = len(dying_cells)\n",
    "    cell_ids = list(dying_cells[\"unique_id\"])\n",
    "    n_deaths = np.random.binomial(n=n_dying, p=death_rate * dt)\n",
    "    to_kill = np.random.choice(cell_ids, size=n_deaths, replace=False)\n",
    "\n",
    "    for cell_id in to_kill:\n",
    "        cell_idx = int(sheet.face_df[sheet.face_df[\"unique_id\"] == cell_id].index[0])\n",
    "        # if sheet.face_df.loc[cell_idx, \"boundary\"] == 0:\n",
    "        vertex = remove_face(sheet, cell_idx)\n",
    "        # else:\n",
    "        #     vertex = drop_face(sheet, cell_idx, geom)\n",
    "        # split_vert(sheet, vertex)\n",
    "    manager.append(apoptosis_cylinder, death_rate=death_rate, dt=dt, radius=radius, geom=geom)\n",
    "    fix_points_cylinder(sheet, radius=radius)"
   ]
  },
  {
   "cell_type": "code",
   "execution_count": 5,
   "id": "54d0d64e4891cdb1",
   "metadata": {
    "ExecuteTime": {
     "end_time": "2025-08-06T17:20:51.856206Z",
     "start_time": "2025-08-06T17:20:51.854496Z"
    }
   },
   "outputs": [],
   "source": [
    "def auto_correlated_tension(sheet, manager, sigma, phi):\n",
    "    \"\"\"\n",
    "    Parameters:\n",
    "    sheet: tyssue.Sheet object\n",
    "    manager: EventManager object\n",
    "    sigma: float, standard deviation\n",
    "    phi: float, autocorrelation factor between 0 and 1 (AR(1) autocorrelation factor)\n",
    "        closer to 1 means stronger correlation\n",
    "    Returns:\n",
    "    updates sheet.edge_df[\"line_tension\"]\n",
    "    \"\"\"\n",
    "    noise = np.random.normal(loc=0, scale=sigma, size=len(sheet.edge_df[\"line_tension\"]))\n",
    "    sheet.edge_df[\"line_tension\"] =  phi * sheet.edge_df[\"line_tension\"] + noise\n",
    "    manager.append(auto_correlated_tension, sigma=sigma, phi=phi)"
   ]
  },
  {
   "cell_type": "code",
   "execution_count": 6,
   "id": "60705e2eb2201589",
   "metadata": {
    "ExecuteTime": {
     "end_time": "2025-08-06T17:20:51.860811Z",
     "start_time": "2025-08-06T17:20:51.859242Z"
    }
   },
   "outputs": [],
   "source": [
    "def update_stem_cells(eptm):\n",
    "    eptm.face_df['stem_cell'] = 0\n",
    "    eptm.face_df['dying_cell'] = 0\n",
    "    eptm.face_df.loc[(eptm.face_df[\"boundary\"] != 1) & (eptm.face_df[\"z\"] < 1), \"stem_cell\"] = 1\n",
    "    eptm.face_df.loc[(eptm.face_df[\"z\"] > 1), \"dying_cell\"] = 1"
   ]
  },
  {
   "cell_type": "code",
   "execution_count": 7,
   "id": "2f62a096c47f87ec",
   "metadata": {
    "ExecuteTime": {
     "end_time": "2025-08-06T17:20:52.793913Z",
     "start_time": "2025-08-06T17:20:51.863901Z"
    }
   },
   "outputs": [
    {
     "name": "stderr",
     "output_type": "stream",
     "text": [
      "/Users/tasnifrahman/PycharmProjects/vivatyssue/src/tyssue/generation/modifiers.py:193: FutureWarning: The behavior of DataFrame concatenation with empty or all-NA entries is deprecated. In a future version, this will no longer exclude empty or all-NA columns when determining the result dtypes. To retain the old behavior, exclude the relevant entries before the concat operation.\n",
      "  sheet.edge_df = pd.concat([sheet.edge_df, anchor_edge_df], sort=True)\n"
     ]
    }
   ],
   "source": [
    "radius = 2.576\n",
    "#generate cylindrical tissue\n",
    "points_xyz = hexa_cylinder(16,30, radius = radius, noise = 0.0, capped = True)\n",
    "sheet = sheet_from_cell_centers(points_xyz)\n",
    "sheet = sheet.extract_bounding_box(z_boundary = (-10.1, 30), coords=['x', 'y', 'z'])\n",
    "sheet.sanitize(trim_borders=False)\n",
    "create_anchors(sheet)\n",
    "sheet = sheet.extract_bounding_box(z_boundary = (-10.1, 10), coords=['x', 'y', 'z'])\n",
    "sheet.sanitize(trim_borders=False)\n",
    "geom.update_all(sheet)\n",
    "sheet.network_changed = False"
   ]
  },
  {
   "cell_type": "code",
   "execution_count": 8,
   "id": "b2a668a8d325ffa2",
   "metadata": {
    "ExecuteTime": {
     "end_time": "2025-08-06T17:20:52.805772Z",
     "start_time": "2025-08-06T17:20:52.802414Z"
    }
   },
   "outputs": [
    {
     "data": {
      "text/plain": [
       "np.float64(1.0001577509936472)"
      ]
     },
     "execution_count": 8,
     "metadata": {},
     "output_type": "execute_result"
    }
   ],
   "source": [
    "sheet.face_df.loc[(sheet.face_df[\"z\"]<8) & (sheet.face_df[\"z\"]>-8), \"area\"].mean()"
   ]
  },
  {
   "cell_type": "code",
   "execution_count": 9,
   "id": "4650acebb75d0958",
   "metadata": {
    "ExecuteTime": {
     "end_time": "2025-08-06T17:20:52.827287Z",
     "start_time": "2025-08-06T17:20:52.811143Z"
    }
   },
   "outputs": [
    {
     "data": {
      "application/vnd.jupyter.widget-view+json": {
       "model_id": "3c58e10641fb4a318570e16e60a52606",
       "version_major": 2,
       "version_minor": 0
      },
      "text/plain": [
       "Figure(box_center=[0.5, 0.5, 0.5], box_size=[1.0, 1.0, 1.0], camera=PerspectiveCamera(fov=45.0, position=(0.0,…"
      ]
     },
     "execution_count": 9,
     "metadata": {},
     "output_type": "execute_result"
    }
   ],
   "source": [
    "draw_specs = tyssue.config.draw.sheet_spec()\n",
    "draw_specs[\"face\"][\"visible\"] = True\n",
    "draw_specs[\"face\"][\"visibles\"] = True\n",
    "draw_specs[\"face\"][\"alpha\"] = 0.2\n",
    "ipv.clear()\n",
    "fig, mesh = sheet_view(sheet, coords=['x', 'y', 'z'], mode=\"3D\", **draw_specs)\n",
    "ipv.pylab.xyzlabel(\"x-axis\", \"y-axis\", \"z-axis\")\n",
    "ipv.pylab.style.axes_on()\n",
    "fig"
   ]
  },
  {
   "cell_type": "code",
   "execution_count": 10,
   "id": "e221d4db4951b65d",
   "metadata": {
    "ExecuteTime": {
     "end_time": "2025-08-06T17:20:52.843002Z",
     "start_time": "2025-08-06T17:20:52.841533Z"
    }
   },
   "outputs": [],
   "source": [
    "#generate model\n",
    "model = model_factory_vessel([\n",
    "    effectors.LineTension,\n",
    "    effectors.FaceAreaElasticity,\n",
    "    effectors.PerimeterElasticity,\n",
    "], effectors.FaceAreaElasticity)"
   ]
  },
  {
   "cell_type": "code",
   "execution_count": 11,
   "id": "76a86fee7625f924",
   "metadata": {
    "ExecuteTime": {
     "end_time": "2025-08-06T17:20:52.878932Z",
     "start_time": "2025-08-06T17:20:52.856128Z"
    }
   },
   "outputs": [],
   "source": [
    "#set model parameters\n",
    "sheet.face_df[\"area_elasticity\"] = 1\n",
    "sheet.face_df[\"prefered_area\"] = 1\n",
    "sheet.face_df[\"perimeter_elasticity\"] = 1\n",
    "sheet.face_df[\"prefered_perimeter\"] = 3.5\n",
    "sheet.edge_df[\"line_tension\"] = np.random.normal(loc=0, scale=0.01, size=len(sheet.edge_df))\n",
    "sheet.edge_df[\"is_active\"] = 1\n",
    "sheet.vert_df[\"viscosity\"] = 5\n",
    "sheet.vert_df[\"prefered_deviation\"] = 0\n",
    "sheet.vert_df[\"surface_elasticity\"] = 5\n",
    "sheet.settings[\"threshold_length\"] = 0.1\n",
    "geom.update_all(sheet)"
   ]
  },
  {
   "cell_type": "code",
   "execution_count": 12,
   "id": "3010b76307f833b",
   "metadata": {
    "ExecuteTime": {
     "end_time": "2025-08-06T17:20:52.896590Z",
     "start_time": "2025-08-06T17:20:52.894109Z"
    }
   },
   "outputs": [
    {
     "data": {
      "text/plain": [
       "edge\n",
       "0       123\n",
       "1       123\n",
       "2       123\n",
       "3       123\n",
       "4       123\n",
       "       ... \n",
       "1915    284\n",
       "1916    284\n",
       "1917    284\n",
       "1918    284\n",
       "1919     68\n",
       "Name: face, Length: 1920, dtype: int64"
      ]
     },
     "execution_count": 12,
     "metadata": {},
     "output_type": "execute_result"
    }
   ],
   "source": [
    "sheet.edge_df[\"face\"]"
   ]
  },
  {
   "cell_type": "code",
   "execution_count": 13,
   "id": "73448ff2ab84403",
   "metadata": {
    "ExecuteTime": {
     "end_time": "2025-08-06T17:20:52.927269Z",
     "start_time": "2025-08-06T17:20:52.923378Z"
    }
   },
   "outputs": [],
   "source": [
    "history = History(sheet)"
   ]
  },
  {
   "cell_type": "code",
   "execution_count": 14,
   "id": "ede225a408712e92",
   "metadata": {
    "ExecuteTime": {
     "end_time": "2025-08-06T17:20:52.949778Z",
     "start_time": "2025-08-06T17:20:52.948050Z"
    }
   },
   "outputs": [],
   "source": [
    "#initialize manager and add division and apoptosis\n",
    "#set division and apoptosis parameters\n",
    "manager = EventManager()\n",
    "manager.append(divide_cylinder, geom=geom, division_rate=0.0005, dt=0.05, radius=radius)\n",
    "manager.append(apoptosis_cylinder, death_rate=0.0005, dt=0.05, radius=radius, geom=geom)\n",
    "manager.append(auto_correlated_tension, sigma = 0.01, phi=0.5)"
   ]
  },
  {
   "cell_type": "code",
   "execution_count": 15,
   "id": "b72132728919cb1f",
   "metadata": {
    "ExecuteTime": {
     "end_time": "2025-08-06T17:20:52.974316Z",
     "start_time": "2025-08-06T17:20:52.972594Z"
    }
   },
   "outputs": [],
   "source": [
    "#initialize solver\n",
    "solver = EulerSolver(\n",
    "    sheet,\n",
    "    geom,\n",
    "    model,\n",
    "    history=history,\n",
    "    auto_reconnect=True,\n",
    "    manager=manager,\n",
    ")"
   ]
  },
  {
   "cell_type": "code",
   "execution_count": 16,
   "id": "f676b918f00c4e1c",
   "metadata": {
    "ExecuteTime": {
     "end_time": "2025-08-06T17:20:52.981900Z",
     "start_time": "2025-08-06T17:20:52.979599Z"
    }
   },
   "outputs": [
    {
     "data": {
      "text/plain": [
       "edge\n",
       "0       1\n",
       "1       1\n",
       "2       1\n",
       "3       1\n",
       "4       1\n",
       "       ..\n",
       "1915    1\n",
       "1916    1\n",
       "1917    1\n",
       "1918    1\n",
       "1919    1\n",
       "Name: is_active, Length: 1920, dtype: int64"
      ]
     },
     "execution_count": 16,
     "metadata": {},
     "output_type": "execute_result"
    }
   ],
   "source": [
    "sheet.edge_df[\"is_active\"]"
   ]
  },
  {
   "cell_type": "code",
   "execution_count": 17,
   "id": "2c1282746ec53ce6",
   "metadata": {
    "ExecuteTime": {
     "end_time": "2025-08-06T17:20:58.292505Z",
     "start_time": "2025-08-06T17:20:53.007259Z"
    },
    "scrolled": true
   },
   "outputs": [
    {
     "name": "stdout",
     "output_type": "stream",
     "text": [
      "Time Elapsed: 152.56220507621765\n"
     ]
    }
   ],
   "source": [
    "#set time variables\n",
    "dt = 0.05\n",
    "tf = 300\n",
    "sheet.settings[\"dt\"] = dt\n",
    "sheet.settings[\"p_4\"] = 1/(dt)\n",
    "sheet.settings[\"p_5p\"] = 1/(dt)\n",
    "#run simulation\n",
    "start = time.time()\n",
    "res = solver.solve(tf=tf, dt = dt)\n",
    "print(f\"Time Elapsed: {time.time()-start}\")"
   ]
  },
  {
   "cell_type": "code",
   "execution_count": 18,
   "id": "1bff12b7-ad88-429f-b552-32cca82cfe5a",
   "metadata": {
    "ExecuteTime": {
     "end_time": "2025-08-06T17:20:58.293709Z",
     "start_time": "2025-08-05T16:53:26.195590Z"
    }
   },
   "outputs": [
    {
     "data": {
      "text/html": [
       "<div>\n",
       "<style scoped>\n",
       "    .dataframe tbody tr th:only-of-type {\n",
       "        vertical-align: middle;\n",
       "    }\n",
       "\n",
       "    .dataframe tbody tr th {\n",
       "        vertical-align: top;\n",
       "    }\n",
       "\n",
       "    .dataframe thead th {\n",
       "        text-align: right;\n",
       "    }\n",
       "</style>\n",
       "<table border=\"1\" class=\"dataframe\">\n",
       "  <thead>\n",
       "    <tr style=\"text-align: right;\">\n",
       "      <th></th>\n",
       "      <th>at_border</th>\n",
       "      <th>boundary</th>\n",
       "      <th>cell</th>\n",
       "      <th>cell_o</th>\n",
       "      <th>cx</th>\n",
       "      <th>cy</th>\n",
       "      <th>cz</th>\n",
       "      <th>dx</th>\n",
       "      <th>dy</th>\n",
       "      <th>dz</th>\n",
       "      <th>...</th>\n",
       "      <th>trgt</th>\n",
       "      <th>trgt_o</th>\n",
       "      <th>tx</th>\n",
       "      <th>ty</th>\n",
       "      <th>tz</th>\n",
       "      <th>unique_id</th>\n",
       "      <th>unique_id_max</th>\n",
       "      <th>ux</th>\n",
       "      <th>uy</th>\n",
       "      <th>uz</th>\n",
       "    </tr>\n",
       "    <tr>\n",
       "      <th>edge</th>\n",
       "      <th></th>\n",
       "      <th></th>\n",
       "      <th></th>\n",
       "      <th></th>\n",
       "      <th></th>\n",
       "      <th></th>\n",
       "      <th></th>\n",
       "      <th></th>\n",
       "      <th></th>\n",
       "      <th></th>\n",
       "      <th></th>\n",
       "      <th></th>\n",
       "      <th></th>\n",
       "      <th></th>\n",
       "      <th></th>\n",
       "      <th></th>\n",
       "      <th></th>\n",
       "      <th></th>\n",
       "      <th></th>\n",
       "      <th></th>\n",
       "      <th></th>\n",
       "    </tr>\n",
       "  </thead>\n",
       "  <tbody>\n",
       "    <tr>\n",
       "      <th>0</th>\n",
       "      <td>0</td>\n",
       "      <td>0</td>\n",
       "      <td>0</td>\n",
       "      <td>0</td>\n",
       "      <td>0.0</td>\n",
       "      <td>0.0</td>\n",
       "      <td>0.0</td>\n",
       "      <td>-0.194314</td>\n",
       "      <td>-0.159583</td>\n",
       "      <td>1.010479</td>\n",
       "      <td>...</td>\n",
       "      <td>682</td>\n",
       "      <td>410</td>\n",
       "      <td>-1.730101</td>\n",
       "      <td>1.908541</td>\n",
       "      <td>5.291516</td>\n",
       "      <td>0</td>\n",
       "      <td>6120</td>\n",
       "      <td>-0.186609</td>\n",
       "      <td>-0.153255</td>\n",
       "      <td>0.970409</td>\n",
       "    </tr>\n",
       "    <tr>\n",
       "      <th>1</th>\n",
       "      <td>0</td>\n",
       "      <td>0</td>\n",
       "      <td>0</td>\n",
       "      <td>0</td>\n",
       "      <td>0.0</td>\n",
       "      <td>0.0</td>\n",
       "      <td>0.0</td>\n",
       "      <td>-0.534183</td>\n",
       "      <td>-0.305179</td>\n",
       "      <td>0.055381</td>\n",
       "      <td>...</td>\n",
       "      <td>173</td>\n",
       "      <td>339</td>\n",
       "      <td>-1.535787</td>\n",
       "      <td>2.068124</td>\n",
       "      <td>4.281037</td>\n",
       "      <td>2</td>\n",
       "      <td>6120</td>\n",
       "      <td>-0.864958</td>\n",
       "      <td>-0.494151</td>\n",
       "      <td>0.089673</td>\n",
       "    </tr>\n",
       "    <tr>\n",
       "      <th>2</th>\n",
       "      <td>0</td>\n",
       "      <td>0</td>\n",
       "      <td>0</td>\n",
       "      <td>0</td>\n",
       "      <td>0.0</td>\n",
       "      <td>0.0</td>\n",
       "      <td>0.0</td>\n",
       "      <td>-0.348378</td>\n",
       "      <td>-0.118498</td>\n",
       "      <td>-0.562589</td>\n",
       "      <td>...</td>\n",
       "      <td>170</td>\n",
       "      <td>336</td>\n",
       "      <td>-1.001603</td>\n",
       "      <td>2.373303</td>\n",
       "      <td>4.225656</td>\n",
       "      <td>4</td>\n",
       "      <td>6120</td>\n",
       "      <td>-0.518262</td>\n",
       "      <td>-0.176283</td>\n",
       "      <td>-0.836932</td>\n",
       "    </tr>\n",
       "    <tr>\n",
       "      <th>3</th>\n",
       "      <td>0</td>\n",
       "      <td>0</td>\n",
       "      <td>0</td>\n",
       "      <td>0</td>\n",
       "      <td>0.0</td>\n",
       "      <td>0.0</td>\n",
       "      <td>0.0</td>\n",
       "      <td>0.244599</td>\n",
       "      <td>0.077327</td>\n",
       "      <td>-0.511864</td>\n",
       "      <td>...</td>\n",
       "      <td>172</td>\n",
       "      <td>338</td>\n",
       "      <td>-0.653226</td>\n",
       "      <td>2.491801</td>\n",
       "      <td>4.788245</td>\n",
       "      <td>6</td>\n",
       "      <td>6120</td>\n",
       "      <td>0.427240</td>\n",
       "      <td>0.135066</td>\n",
       "      <td>-0.894071</td>\n",
       "    </tr>\n",
       "    <tr>\n",
       "      <th>4</th>\n",
       "      <td>0</td>\n",
       "      <td>0</td>\n",
       "      <td>0</td>\n",
       "      <td>0</td>\n",
       "      <td>0.0</td>\n",
       "      <td>0.0</td>\n",
       "      <td>0.0</td>\n",
       "      <td>0.832276</td>\n",
       "      <td>0.505934</td>\n",
       "      <td>0.008593</td>\n",
       "      <td>...</td>\n",
       "      <td>171</td>\n",
       "      <td>337</td>\n",
       "      <td>-0.897825</td>\n",
       "      <td>2.414474</td>\n",
       "      <td>5.300109</td>\n",
       "      <td>8</td>\n",
       "      <td>6120</td>\n",
       "      <td>0.854602</td>\n",
       "      <td>0.519506</td>\n",
       "      <td>0.008824</td>\n",
       "    </tr>\n",
       "    <tr>\n",
       "      <th>...</th>\n",
       "      <td>...</td>\n",
       "      <td>...</td>\n",
       "      <td>...</td>\n",
       "      <td>...</td>\n",
       "      <td>...</td>\n",
       "      <td>...</td>\n",
       "      <td>...</td>\n",
       "      <td>...</td>\n",
       "      <td>...</td>\n",
       "      <td>...</td>\n",
       "      <td>...</td>\n",
       "      <td>...</td>\n",
       "      <td>...</td>\n",
       "      <td>...</td>\n",
       "      <td>...</td>\n",
       "      <td>...</td>\n",
       "      <td>...</td>\n",
       "      <td>...</td>\n",
       "      <td>...</td>\n",
       "      <td>...</td>\n",
       "      <td>...</td>\n",
       "    </tr>\n",
       "    <tr>\n",
       "      <th>1948</th>\n",
       "      <td>0</td>\n",
       "      <td>0</td>\n",
       "      <td>0</td>\n",
       "      <td>0</td>\n",
       "      <td>0.0</td>\n",
       "      <td>0.0</td>\n",
       "      <td>0.0</td>\n",
       "      <td>0.007214</td>\n",
       "      <td>0.008056</td>\n",
       "      <td>0.154955</td>\n",
       "      <td>...</td>\n",
       "      <td>681</td>\n",
       "      <td>0</td>\n",
       "      <td>-1.915388</td>\n",
       "      <td>1.722518</td>\n",
       "      <td>5.590899</td>\n",
       "      <td>1694</td>\n",
       "      <td>6120</td>\n",
       "      <td>0.046442</td>\n",
       "      <td>0.051860</td>\n",
       "      <td>0.997566</td>\n",
       "    </tr>\n",
       "    <tr>\n",
       "      <th>1949</th>\n",
       "      <td>0</td>\n",
       "      <td>0</td>\n",
       "      <td>0</td>\n",
       "      <td>0</td>\n",
       "      <td>0.0</td>\n",
       "      <td>0.0</td>\n",
       "      <td>0.0</td>\n",
       "      <td>0.192501</td>\n",
       "      <td>0.194079</td>\n",
       "      <td>-0.144428</td>\n",
       "      <td>...</td>\n",
       "      <td>682</td>\n",
       "      <td>492</td>\n",
       "      <td>-1.730101</td>\n",
       "      <td>1.908541</td>\n",
       "      <td>5.291516</td>\n",
       "      <td>387</td>\n",
       "      <td>6120</td>\n",
       "      <td>0.622681</td>\n",
       "      <td>0.627785</td>\n",
       "      <td>-0.467179</td>\n",
       "    </tr>\n",
       "    <tr>\n",
       "      <th>1950</th>\n",
       "      <td>0</td>\n",
       "      <td>0</td>\n",
       "      <td>0</td>\n",
       "      <td>0</td>\n",
       "      <td>0.0</td>\n",
       "      <td>0.0</td>\n",
       "      <td>0.0</td>\n",
       "      <td>-0.192501</td>\n",
       "      <td>-0.194079</td>\n",
       "      <td>0.144428</td>\n",
       "      <td>...</td>\n",
       "      <td>683</td>\n",
       "      <td>0</td>\n",
       "      <td>-1.922601</td>\n",
       "      <td>1.714462</td>\n",
       "      <td>5.435944</td>\n",
       "      <td>1694</td>\n",
       "      <td>6120</td>\n",
       "      <td>-0.622681</td>\n",
       "      <td>-0.627785</td>\n",
       "      <td>0.467179</td>\n",
       "    </tr>\n",
       "    <tr>\n",
       "      <th>1951</th>\n",
       "      <td>0</td>\n",
       "      <td>0</td>\n",
       "      <td>0</td>\n",
       "      <td>0</td>\n",
       "      <td>0.0</td>\n",
       "      <td>0.0</td>\n",
       "      <td>0.0</td>\n",
       "      <td>-0.150581</td>\n",
       "      <td>-0.185511</td>\n",
       "      <td>-0.077150</td>\n",
       "      <td>...</td>\n",
       "      <td>680</td>\n",
       "      <td>159</td>\n",
       "      <td>-2.073182</td>\n",
       "      <td>1.528951</td>\n",
       "      <td>5.358794</td>\n",
       "      <td>170</td>\n",
       "      <td>6120</td>\n",
       "      <td>-0.599752</td>\n",
       "      <td>-0.738876</td>\n",
       "      <td>-0.307282</td>\n",
       "    </tr>\n",
       "    <tr>\n",
       "      <th>1952</th>\n",
       "      <td>0</td>\n",
       "      <td>0</td>\n",
       "      <td>0</td>\n",
       "      <td>0</td>\n",
       "      <td>0.0</td>\n",
       "      <td>0.0</td>\n",
       "      <td>0.0</td>\n",
       "      <td>0.150581</td>\n",
       "      <td>0.185511</td>\n",
       "      <td>0.077150</td>\n",
       "      <td>...</td>\n",
       "      <td>683</td>\n",
       "      <td>492</td>\n",
       "      <td>-1.922601</td>\n",
       "      <td>1.714462</td>\n",
       "      <td>5.435944</td>\n",
       "      <td>387</td>\n",
       "      <td>6120</td>\n",
       "      <td>0.599752</td>\n",
       "      <td>0.738876</td>\n",
       "      <td>0.307282</td>\n",
       "    </tr>\n",
       "  </tbody>\n",
       "</table>\n",
       "<p>1953 rows × 45 columns</p>\n",
       "</div>"
      ],
      "text/plain": [
       "      at_border  boundary cell cell_o   cx   cy   cz        dx        dy  \\\n",
       "edge                                                                       \n",
       "0             0         0    0      0  0.0  0.0  0.0 -0.194314 -0.159583   \n",
       "1             0         0    0      0  0.0  0.0  0.0 -0.534183 -0.305179   \n",
       "2             0         0    0      0  0.0  0.0  0.0 -0.348378 -0.118498   \n",
       "3             0         0    0      0  0.0  0.0  0.0  0.244599  0.077327   \n",
       "4             0         0    0      0  0.0  0.0  0.0  0.832276  0.505934   \n",
       "...         ...       ...  ...    ...  ...  ...  ...       ...       ...   \n",
       "1948          0         0    0      0  0.0  0.0  0.0  0.007214  0.008056   \n",
       "1949          0         0    0      0  0.0  0.0  0.0  0.192501  0.194079   \n",
       "1950          0         0    0      0  0.0  0.0  0.0 -0.192501 -0.194079   \n",
       "1951          0         0    0      0  0.0  0.0  0.0 -0.150581 -0.185511   \n",
       "1952          0         0    0      0  0.0  0.0  0.0  0.150581  0.185511   \n",
       "\n",
       "            dz  ... trgt  trgt_o        tx        ty        tz  unique_id  \\\n",
       "edge            ...                                                         \n",
       "0     1.010479  ...  682     410 -1.730101  1.908541  5.291516          0   \n",
       "1     0.055381  ...  173     339 -1.535787  2.068124  4.281037          2   \n",
       "2    -0.562589  ...  170     336 -1.001603  2.373303  4.225656          4   \n",
       "3    -0.511864  ...  172     338 -0.653226  2.491801  4.788245          6   \n",
       "4     0.008593  ...  171     337 -0.897825  2.414474  5.300109          8   \n",
       "...        ...  ...  ...     ...       ...       ...       ...        ...   \n",
       "1948  0.154955  ...  681       0 -1.915388  1.722518  5.590899       1694   \n",
       "1949 -0.144428  ...  682     492 -1.730101  1.908541  5.291516        387   \n",
       "1950  0.144428  ...  683       0 -1.922601  1.714462  5.435944       1694   \n",
       "1951 -0.077150  ...  680     159 -2.073182  1.528951  5.358794        170   \n",
       "1952  0.077150  ...  683     492 -1.922601  1.714462  5.435944        387   \n",
       "\n",
       "      unique_id_max        ux        uy        uz  \n",
       "edge                                               \n",
       "0              6120 -0.186609 -0.153255  0.970409  \n",
       "1              6120 -0.864958 -0.494151  0.089673  \n",
       "2              6120 -0.518262 -0.176283 -0.836932  \n",
       "3              6120  0.427240  0.135066 -0.894071  \n",
       "4              6120  0.854602  0.519506  0.008824  \n",
       "...             ...       ...       ...       ...  \n",
       "1948           6120  0.046442  0.051860  0.997566  \n",
       "1949           6120  0.622681  0.627785 -0.467179  \n",
       "1950           6120 -0.622681 -0.627785  0.467179  \n",
       "1951           6120 -0.599752 -0.738876 -0.307282  \n",
       "1952           6120  0.599752  0.738876  0.307282  \n",
       "\n",
       "[1953 rows x 45 columns]"
      ]
     },
     "execution_count": 18,
     "metadata": {},
     "output_type": "execute_result"
    }
   ],
   "source": [
    "sheet.edge_df"
   ]
  },
  {
   "cell_type": "code",
   "execution_count": 19,
   "id": "8574a3643a81de94",
   "metadata": {
    "ExecuteTime": {
     "end_time": "2025-08-06T17:20:58.294470Z",
     "start_time": "2025-08-06T17:06:00.618853Z"
    }
   },
   "outputs": [],
   "source": [
    "ipv.clear()"
   ]
  },
  {
   "cell_type": "code",
   "execution_count": 20,
   "id": "403787658ae3d684",
   "metadata": {
    "ExecuteTime": {
     "end_time": "2025-08-06T17:20:58.294771Z",
     "start_time": "2025-08-06T17:06:01.068347Z"
    }
   },
   "outputs": [
    {
     "data": {
      "application/vnd.jupyter.widget-view+json": {
       "model_id": "587342ce12a04be49f4aa3a11790fe29",
       "version_major": 2,
       "version_minor": 0
      },
      "text/plain": [
       "Container(figure=Figure(box_center=[0.5, 0.5, 0.5], box_size=[1.0, 1.0, 1.0], camera=PerspectiveCamera(fov=45.…"
      ]
     },
     "metadata": {},
     "output_type": "display_data"
    },
    {
     "data": {
      "application/vnd.jupyter.widget-view+json": {
       "model_id": "cdae0857d98a44b2b1042b56d801a87f",
       "version_major": 2,
       "version_minor": 0
      },
      "text/plain": [
       "interactive(children=(IntSlider(value=0, description='i', max=6000), Output()), _dom_classes=('widget-interact…"
      ]
     },
     "metadata": {},
     "output_type": "display_data"
    }
   ],
   "source": [
    "ipv.clear()\n",
    "browse_history(history,**draw_specs)"
   ]
  },
  {
   "cell_type": "code",
   "execution_count": 21,
   "id": "ae478934d3197968",
   "metadata": {
    "ExecuteTime": {
     "end_time": "2025-08-06T17:20:58.300143Z",
     "start_time": "2025-08-05T16:53:26.349153Z"
    }
   },
   "outputs": [
    {
     "data": {
      "text/plain": [
       "326"
      ]
     },
     "execution_count": 21,
     "metadata": {},
     "output_type": "execute_result"
    }
   ],
   "source": [
    "len(sheet.face_df)"
   ]
  },
  {
   "cell_type": "code",
   "execution_count": 22,
   "id": "c4457c2572194684",
   "metadata": {
    "ExecuteTime": {
     "end_time": "2025-08-06T17:20:58.300935Z",
     "start_time": "2025-08-06T17:03:09.697809Z"
    }
   },
   "outputs": [
    {
     "data": {
      "text/plain": [
       "edge\n",
       "0       1\n",
       "1       1\n",
       "2       1\n",
       "3       1\n",
       "4       1\n",
       "       ..\n",
       "1948    1\n",
       "1949    1\n",
       "1950    1\n",
       "1951    1\n",
       "1952    1\n",
       "Name: is_active, Length: 1953, dtype: int64"
      ]
     },
     "execution_count": 22,
     "metadata": {},
     "output_type": "execute_result"
    }
   ],
   "source": [
    "sheet.edge_df[\"is_active\"]"
   ]
  },
  {
   "cell_type": "code",
   "execution_count": 23,
   "id": "b037b797c44fc4d3",
   "metadata": {
    "ExecuteTime": {
     "end_time": "2025-08-06T17:20:58.302683Z",
     "start_time": "2025-08-05T16:58:37.957170Z"
    }
   },
   "outputs": [
    {
     "data": {
      "application/vnd.jupyter.widget-view+json": {
       "model_id": "900f2081fcc44d9e93167affe7596705",
       "version_major": 2,
       "version_minor": 0
      },
      "text/plain": [
       "Figure(box_center=[0.5, 0.5, 0.5], box_size=[1.0, 1.0, 1.0], camera=PerspectiveCamera(fov=45.0, position=(0.0,…"
      ]
     },
     "execution_count": 23,
     "metadata": {},
     "output_type": "execute_result"
    }
   ],
   "source": [
    "ipv.clear()\n",
    "fig, mesh = sheet_view(sheet, coords=['x', 'y', 'z'], mode=\"3D\", **draw_specs)\n",
    "ipv.pylab.xyzlabel(\"x-axis\", \"y-axis\", \"z-axis\")\n",
    "ipv.pylab.style.axes_on()\n",
    "fig"
   ]
  },
  {
   "cell_type": "code",
   "execution_count": 24,
   "id": "c634e8c143ef985d",
   "metadata": {},
   "outputs": [],
   "source": [
    "sheet1 = history.retrieve(0.0)"
   ]
  },
  {
   "cell_type": "code",
   "execution_count": 25,
   "id": "5f7fa8cf-03a1-4eb1-a494-fdcc3dd75061",
   "metadata": {},
   "outputs": [
    {
     "data": {
      "text/html": [
       "<div>\n",
       "<style scoped>\n",
       "    .dataframe tbody tr th:only-of-type {\n",
       "        vertical-align: middle;\n",
       "    }\n",
       "\n",
       "    .dataframe tbody tr th {\n",
       "        vertical-align: top;\n",
       "    }\n",
       "\n",
       "    .dataframe thead th {\n",
       "        text-align: right;\n",
       "    }\n",
       "</style>\n",
       "<table border=\"1\" class=\"dataframe\">\n",
       "  <thead>\n",
       "    <tr style=\"text-align: right;\">\n",
       "      <th></th>\n",
       "      <th>at_border</th>\n",
       "      <th>boundary</th>\n",
       "      <th>cell</th>\n",
       "      <th>cell_o</th>\n",
       "      <th>cx</th>\n",
       "      <th>cy</th>\n",
       "      <th>cz</th>\n",
       "      <th>dx</th>\n",
       "      <th>dy</th>\n",
       "      <th>dz</th>\n",
       "      <th>...</th>\n",
       "      <th>trgt</th>\n",
       "      <th>trgt_o</th>\n",
       "      <th>tx</th>\n",
       "      <th>ty</th>\n",
       "      <th>tz</th>\n",
       "      <th>unique_id</th>\n",
       "      <th>unique_id_max</th>\n",
       "      <th>ux</th>\n",
       "      <th>uy</th>\n",
       "      <th>uz</th>\n",
       "    </tr>\n",
       "    <tr>\n",
       "      <th>edge</th>\n",
       "      <th></th>\n",
       "      <th></th>\n",
       "      <th></th>\n",
       "      <th></th>\n",
       "      <th></th>\n",
       "      <th></th>\n",
       "      <th></th>\n",
       "      <th></th>\n",
       "      <th></th>\n",
       "      <th></th>\n",
       "      <th></th>\n",
       "      <th></th>\n",
       "      <th></th>\n",
       "      <th></th>\n",
       "      <th></th>\n",
       "      <th></th>\n",
       "      <th></th>\n",
       "      <th></th>\n",
       "      <th></th>\n",
       "      <th></th>\n",
       "      <th></th>\n",
       "    </tr>\n",
       "  </thead>\n",
       "  <tbody>\n",
       "    <tr>\n",
       "      <th>0</th>\n",
       "      <td>0</td>\n",
       "      <td>0</td>\n",
       "      <td>0</td>\n",
       "      <td>0</td>\n",
       "      <td>0.0</td>\n",
       "      <td>0.0</td>\n",
       "      <td>0.0</td>\n",
       "      <td>-0.194314</td>\n",
       "      <td>-0.159583</td>\n",
       "      <td>1.010479</td>\n",
       "      <td>...</td>\n",
       "      <td>682</td>\n",
       "      <td>410</td>\n",
       "      <td>-1.730101</td>\n",
       "      <td>1.908541</td>\n",
       "      <td>5.291516</td>\n",
       "      <td>0</td>\n",
       "      <td>6120</td>\n",
       "      <td>-0.186609</td>\n",
       "      <td>-0.153255</td>\n",
       "      <td>0.970409</td>\n",
       "    </tr>\n",
       "    <tr>\n",
       "      <th>1</th>\n",
       "      <td>0</td>\n",
       "      <td>0</td>\n",
       "      <td>0</td>\n",
       "      <td>0</td>\n",
       "      <td>0.0</td>\n",
       "      <td>0.0</td>\n",
       "      <td>0.0</td>\n",
       "      <td>-0.534183</td>\n",
       "      <td>-0.305179</td>\n",
       "      <td>0.055381</td>\n",
       "      <td>...</td>\n",
       "      <td>173</td>\n",
       "      <td>339</td>\n",
       "      <td>-1.535787</td>\n",
       "      <td>2.068124</td>\n",
       "      <td>4.281037</td>\n",
       "      <td>2</td>\n",
       "      <td>6120</td>\n",
       "      <td>-0.864958</td>\n",
       "      <td>-0.494151</td>\n",
       "      <td>0.089673</td>\n",
       "    </tr>\n",
       "    <tr>\n",
       "      <th>2</th>\n",
       "      <td>0</td>\n",
       "      <td>0</td>\n",
       "      <td>0</td>\n",
       "      <td>0</td>\n",
       "      <td>0.0</td>\n",
       "      <td>0.0</td>\n",
       "      <td>0.0</td>\n",
       "      <td>-0.348378</td>\n",
       "      <td>-0.118498</td>\n",
       "      <td>-0.562589</td>\n",
       "      <td>...</td>\n",
       "      <td>170</td>\n",
       "      <td>336</td>\n",
       "      <td>-1.001603</td>\n",
       "      <td>2.373303</td>\n",
       "      <td>4.225656</td>\n",
       "      <td>4</td>\n",
       "      <td>6120</td>\n",
       "      <td>-0.518262</td>\n",
       "      <td>-0.176283</td>\n",
       "      <td>-0.836932</td>\n",
       "    </tr>\n",
       "    <tr>\n",
       "      <th>3</th>\n",
       "      <td>0</td>\n",
       "      <td>0</td>\n",
       "      <td>0</td>\n",
       "      <td>0</td>\n",
       "      <td>0.0</td>\n",
       "      <td>0.0</td>\n",
       "      <td>0.0</td>\n",
       "      <td>0.244599</td>\n",
       "      <td>0.077327</td>\n",
       "      <td>-0.511864</td>\n",
       "      <td>...</td>\n",
       "      <td>172</td>\n",
       "      <td>338</td>\n",
       "      <td>-0.653226</td>\n",
       "      <td>2.491801</td>\n",
       "      <td>4.788245</td>\n",
       "      <td>6</td>\n",
       "      <td>6120</td>\n",
       "      <td>0.427240</td>\n",
       "      <td>0.135066</td>\n",
       "      <td>-0.894071</td>\n",
       "    </tr>\n",
       "    <tr>\n",
       "      <th>4</th>\n",
       "      <td>0</td>\n",
       "      <td>0</td>\n",
       "      <td>0</td>\n",
       "      <td>0</td>\n",
       "      <td>0.0</td>\n",
       "      <td>0.0</td>\n",
       "      <td>0.0</td>\n",
       "      <td>0.832276</td>\n",
       "      <td>0.505934</td>\n",
       "      <td>0.008593</td>\n",
       "      <td>...</td>\n",
       "      <td>171</td>\n",
       "      <td>337</td>\n",
       "      <td>-0.897825</td>\n",
       "      <td>2.414474</td>\n",
       "      <td>5.300109</td>\n",
       "      <td>8</td>\n",
       "      <td>6120</td>\n",
       "      <td>0.854602</td>\n",
       "      <td>0.519506</td>\n",
       "      <td>0.008824</td>\n",
       "    </tr>\n",
       "    <tr>\n",
       "      <th>...</th>\n",
       "      <td>...</td>\n",
       "      <td>...</td>\n",
       "      <td>...</td>\n",
       "      <td>...</td>\n",
       "      <td>...</td>\n",
       "      <td>...</td>\n",
       "      <td>...</td>\n",
       "      <td>...</td>\n",
       "      <td>...</td>\n",
       "      <td>...</td>\n",
       "      <td>...</td>\n",
       "      <td>...</td>\n",
       "      <td>...</td>\n",
       "      <td>...</td>\n",
       "      <td>...</td>\n",
       "      <td>...</td>\n",
       "      <td>...</td>\n",
       "      <td>...</td>\n",
       "      <td>...</td>\n",
       "      <td>...</td>\n",
       "      <td>...</td>\n",
       "    </tr>\n",
       "    <tr>\n",
       "      <th>1948</th>\n",
       "      <td>0</td>\n",
       "      <td>0</td>\n",
       "      <td>0</td>\n",
       "      <td>0</td>\n",
       "      <td>0.0</td>\n",
       "      <td>0.0</td>\n",
       "      <td>0.0</td>\n",
       "      <td>0.007214</td>\n",
       "      <td>0.008056</td>\n",
       "      <td>0.154955</td>\n",
       "      <td>...</td>\n",
       "      <td>681</td>\n",
       "      <td>0</td>\n",
       "      <td>-1.915388</td>\n",
       "      <td>1.722518</td>\n",
       "      <td>5.590899</td>\n",
       "      <td>1694</td>\n",
       "      <td>6120</td>\n",
       "      <td>0.046442</td>\n",
       "      <td>0.051860</td>\n",
       "      <td>0.997566</td>\n",
       "    </tr>\n",
       "    <tr>\n",
       "      <th>1949</th>\n",
       "      <td>0</td>\n",
       "      <td>0</td>\n",
       "      <td>0</td>\n",
       "      <td>0</td>\n",
       "      <td>0.0</td>\n",
       "      <td>0.0</td>\n",
       "      <td>0.0</td>\n",
       "      <td>0.192501</td>\n",
       "      <td>0.194079</td>\n",
       "      <td>-0.144428</td>\n",
       "      <td>...</td>\n",
       "      <td>682</td>\n",
       "      <td>492</td>\n",
       "      <td>-1.730101</td>\n",
       "      <td>1.908541</td>\n",
       "      <td>5.291516</td>\n",
       "      <td>387</td>\n",
       "      <td>6120</td>\n",
       "      <td>0.622681</td>\n",
       "      <td>0.627785</td>\n",
       "      <td>-0.467179</td>\n",
       "    </tr>\n",
       "    <tr>\n",
       "      <th>1950</th>\n",
       "      <td>0</td>\n",
       "      <td>0</td>\n",
       "      <td>0</td>\n",
       "      <td>0</td>\n",
       "      <td>0.0</td>\n",
       "      <td>0.0</td>\n",
       "      <td>0.0</td>\n",
       "      <td>-0.192501</td>\n",
       "      <td>-0.194079</td>\n",
       "      <td>0.144428</td>\n",
       "      <td>...</td>\n",
       "      <td>683</td>\n",
       "      <td>0</td>\n",
       "      <td>-1.922601</td>\n",
       "      <td>1.714462</td>\n",
       "      <td>5.435944</td>\n",
       "      <td>1694</td>\n",
       "      <td>6120</td>\n",
       "      <td>-0.622681</td>\n",
       "      <td>-0.627785</td>\n",
       "      <td>0.467179</td>\n",
       "    </tr>\n",
       "    <tr>\n",
       "      <th>1951</th>\n",
       "      <td>0</td>\n",
       "      <td>0</td>\n",
       "      <td>0</td>\n",
       "      <td>0</td>\n",
       "      <td>0.0</td>\n",
       "      <td>0.0</td>\n",
       "      <td>0.0</td>\n",
       "      <td>-0.150581</td>\n",
       "      <td>-0.185511</td>\n",
       "      <td>-0.077150</td>\n",
       "      <td>...</td>\n",
       "      <td>680</td>\n",
       "      <td>159</td>\n",
       "      <td>-2.073182</td>\n",
       "      <td>1.528951</td>\n",
       "      <td>5.358794</td>\n",
       "      <td>170</td>\n",
       "      <td>6120</td>\n",
       "      <td>-0.599752</td>\n",
       "      <td>-0.738876</td>\n",
       "      <td>-0.307282</td>\n",
       "    </tr>\n",
       "    <tr>\n",
       "      <th>1952</th>\n",
       "      <td>0</td>\n",
       "      <td>0</td>\n",
       "      <td>0</td>\n",
       "      <td>0</td>\n",
       "      <td>0.0</td>\n",
       "      <td>0.0</td>\n",
       "      <td>0.0</td>\n",
       "      <td>0.150581</td>\n",
       "      <td>0.185511</td>\n",
       "      <td>0.077150</td>\n",
       "      <td>...</td>\n",
       "      <td>683</td>\n",
       "      <td>492</td>\n",
       "      <td>-1.922601</td>\n",
       "      <td>1.714462</td>\n",
       "      <td>5.435944</td>\n",
       "      <td>387</td>\n",
       "      <td>6120</td>\n",
       "      <td>0.599752</td>\n",
       "      <td>0.738876</td>\n",
       "      <td>0.307282</td>\n",
       "    </tr>\n",
       "  </tbody>\n",
       "</table>\n",
       "<p>1953 rows × 45 columns</p>\n",
       "</div>"
      ],
      "text/plain": [
       "      at_border  boundary cell cell_o   cx   cy   cz        dx        dy  \\\n",
       "edge                                                                       \n",
       "0             0         0    0      0  0.0  0.0  0.0 -0.194314 -0.159583   \n",
       "1             0         0    0      0  0.0  0.0  0.0 -0.534183 -0.305179   \n",
       "2             0         0    0      0  0.0  0.0  0.0 -0.348378 -0.118498   \n",
       "3             0         0    0      0  0.0  0.0  0.0  0.244599  0.077327   \n",
       "4             0         0    0      0  0.0  0.0  0.0  0.832276  0.505934   \n",
       "...         ...       ...  ...    ...  ...  ...  ...       ...       ...   \n",
       "1948          0         0    0      0  0.0  0.0  0.0  0.007214  0.008056   \n",
       "1949          0         0    0      0  0.0  0.0  0.0  0.192501  0.194079   \n",
       "1950          0         0    0      0  0.0  0.0  0.0 -0.192501 -0.194079   \n",
       "1951          0         0    0      0  0.0  0.0  0.0 -0.150581 -0.185511   \n",
       "1952          0         0    0      0  0.0  0.0  0.0  0.150581  0.185511   \n",
       "\n",
       "            dz  ... trgt  trgt_o        tx        ty        tz  unique_id  \\\n",
       "edge            ...                                                         \n",
       "0     1.010479  ...  682     410 -1.730101  1.908541  5.291516          0   \n",
       "1     0.055381  ...  173     339 -1.535787  2.068124  4.281037          2   \n",
       "2    -0.562589  ...  170     336 -1.001603  2.373303  4.225656          4   \n",
       "3    -0.511864  ...  172     338 -0.653226  2.491801  4.788245          6   \n",
       "4     0.008593  ...  171     337 -0.897825  2.414474  5.300109          8   \n",
       "...        ...  ...  ...     ...       ...       ...       ...        ...   \n",
       "1948  0.154955  ...  681       0 -1.915388  1.722518  5.590899       1694   \n",
       "1949 -0.144428  ...  682     492 -1.730101  1.908541  5.291516        387   \n",
       "1950  0.144428  ...  683       0 -1.922601  1.714462  5.435944       1694   \n",
       "1951 -0.077150  ...  680     159 -2.073182  1.528951  5.358794        170   \n",
       "1952  0.077150  ...  683     492 -1.922601  1.714462  5.435944        387   \n",
       "\n",
       "      unique_id_max        ux        uy        uz  \n",
       "edge                                               \n",
       "0              6120 -0.186609 -0.153255  0.970409  \n",
       "1              6120 -0.864958 -0.494151  0.089673  \n",
       "2              6120 -0.518262 -0.176283 -0.836932  \n",
       "3              6120  0.427240  0.135066 -0.894071  \n",
       "4              6120  0.854602  0.519506  0.008824  \n",
       "...             ...       ...       ...       ...  \n",
       "1948           6120  0.046442  0.051860  0.997566  \n",
       "1949           6120  0.622681  0.627785 -0.467179  \n",
       "1950           6120 -0.622681 -0.627785  0.467179  \n",
       "1951           6120 -0.599752 -0.738876 -0.307282  \n",
       "1952           6120  0.599752  0.738876  0.307282  \n",
       "\n",
       "[1953 rows x 45 columns]"
      ]
     },
     "execution_count": 25,
     "metadata": {},
     "output_type": "execute_result"
    }
   ],
   "source": [
    "sheet.edge_df"
   ]
  },
  {
   "cell_type": "code",
   "execution_count": 26,
   "id": "fb1a9b32-c88d-46a2-bf07-7244cd16e934",
   "metadata": {},
   "outputs": [
    {
     "data": {
      "application/vnd.jupyter.widget-view+json": {
       "model_id": "5b8028375ea145d383bd831371b83320",
       "version_major": 2,
       "version_minor": 0
      },
      "text/plain": [
       "Container(figure=Figure(box_center=[0.5, 0.5, 0.5], box_size=[1.0, 1.0, 1.0], camera=PerspectiveCamera(fov=45.…"
      ]
     },
     "metadata": {},
     "output_type": "display_data"
    },
    {
     "data": {
      "application/vnd.jupyter.widget-view+json": {
       "model_id": "d26175a35aa54f86993c8a4e63cef12b",
       "version_major": 2,
       "version_minor": 0
      },
      "text/plain": [
       "interactive(children=(IntSlider(value=0, description='i', max=6000), Output()), _dom_classes=('widget-interact…"
      ]
     },
     "metadata": {},
     "output_type": "display_data"
    }
   ],
   "source": [
    "ipv.clear()\n",
    "browse_history(history, **draw_specs)"
   ]
  },
  {
   "cell_type": "code",
   "execution_count": null,
   "id": "7461b868-0f83-4f10-a32a-9cc4d9c1f809",
   "metadata": {},
   "outputs": [],
   "source": []
  }
 ],
 "metadata": {
  "kernelspec": {
   "display_name": "Python 3 (ipykernel)",
   "language": "python",
   "name": "python3"
  },
  "language_info": {
   "codemirror_mode": {
    "name": "ipython",
    "version": 3
   },
   "file_extension": ".py",
   "mimetype": "text/x-python",
   "name": "python",
   "nbconvert_exporter": "python",
   "pygments_lexer": "ipython3",
   "version": "3.12.11"
  }
 },
 "nbformat": 4,
 "nbformat_minor": 5
}
