{
 "cells": [
  {
   "cell_type": "code",
   "execution_count": 1,
   "id": "initial_id",
   "metadata": {
    "ExecuteTime": {
     "end_time": "2025-08-06T17:20:51.761145Z",
     "start_time": "2025-08-06T17:20:50.123786Z"
    }
   },
   "outputs": [
    {
     "name": "stdout",
     "output_type": "stream",
     "text": [
      "C++ extensions are not available for this version\n",
      "collision solver could not be imported You may need to install CGAL and re-install tyssue\n"
     ]
    }
   ],
   "source": [
    "import random\n",
    "from pprint import pprint\n",
    "import io\n",
    "import imageio.v2 as imageio\n",
    "import matplotlib.pyplot as plt\n",
    "import numpy as np\n",
    "import time\n",
    "import logging\n",
    "\n",
    "import tyssue\n",
    "from tyssue import History\n",
    "from tyssue.dynamics import effectors, model_factory, model_factory_vessel, model_factory_cylinder\n",
    "from tyssue.generation.hexagonal_grids import hexa_cylinder\n",
    "from tyssue.generation.shapes import sheet_from_cell_centers\n",
    "from tyssue.geometry.sheet_geometry import CylinderGeometry, CylinderGeometryInit\n",
    "from tyssue import config\n",
    "from tyssue.draw import sheet_view, create_gif\n",
    "from tyssue.geometry.vessel_geometry import VesselGeometry as geom\n",
    "from tyssue.solvers.viscous import EulerSolver\n",
    "from tyssue.draw.ipv_draw import browse_history\n",
    "from tyssue.topology.sheet_topology import cell_division, drop_face, split_vert\n",
    "from tyssue.topology.base_topology import remove_face\n",
    "from tyssue.behaviors import EventManager\n",
    "from tyssue.generation.modifiers import create_anchors\n",
    "import ipyvolume as ipv\n",
    "\n",
    "from process_bigraph import Process, Composite, ProcessTypes\n",
    "from process_bigraph.emitter import emitter_from_wires, gather_emitter_results\n",
    "\n",
    "%load_ext snakeviz"
   ]
  },
  {
   "cell_type": "code",
   "execution_count": 2,
   "id": "f3b5254847a49d75",
   "metadata": {
    "ExecuteTime": {
     "end_time": "2025-08-06T17:20:51.766112Z",
     "start_time": "2025-08-06T17:20:51.764318Z"
    }
   },
   "outputs": [],
   "source": [
    "def fix_points_cylinder(sheet, radius):\n",
    "    xy = sheet.vert_df[['x', 'y']].to_numpy()\n",
    "    r = np.linalg.norm(xy, axis=1)\n",
    "    r_safe = np.where(r == 0, 1e-12, r)\n",
    "    xy_on_cylinder = (radius/r_safe)[:, None] * xy\n",
    "    sheet.vert_df['x'] = xy_on_cylinder[:, 0]\n",
    "    sheet.vert_df['y'] = xy_on_cylinder[:, 1]"
   ]
  },
  {
   "cell_type": "code",
   "execution_count": 3,
   "id": "a540521329af124b",
   "metadata": {
    "ExecuteTime": {
     "end_time": "2025-08-06T17:20:51.846249Z",
     "start_time": "2025-08-06T17:20:51.844147Z"
    }
   },
   "outputs": [],
   "source": [
    "def divide_cylinder(sheet, manager, geom, division_rate, dt, radius):\n",
    "    update_stem_cells(sheet)\n",
    "    stem_cells = sheet.face_df.loc[(sheet.face_df[\"stem_cell\"] == 1) & (sheet.face_df[\"area\"]>=0.7*sheet.face_df[\"area\"].mean())].copy()\n",
    "    n_stem = len(stem_cells)\n",
    "    cell_ids = list(stem_cells[\"unique_id\"])\n",
    "    n_divisions = np.random.binomial(n=n_stem, p=division_rate * dt)\n",
    "    dividing_cells = np.random.choice(cell_ids, size=n_divisions, replace=False)\n",
    "\n",
    "    for cell_id in dividing_cells:\n",
    "        cell_idx = int(sheet.face_df[sheet.face_df[\"unique_id\"] == cell_id].index[0])\n",
    "        daughter = cell_division(sheet, cell_idx, geom)\n",
    "    manager.append(divide_cylinder, geom=geom, division_rate=division_rate, dt=dt, radius=radius)\n",
    "    fix_points_cylinder(sheet, radius=radius)"
   ]
  },
  {
   "cell_type": "code",
   "execution_count": 4,
   "id": "3d7865e5e469f0f3",
   "metadata": {
    "ExecuteTime": {
     "end_time": "2025-08-06T17:20:51.851261Z",
     "start_time": "2025-08-06T17:20:51.849328Z"
    }
   },
   "outputs": [],
   "source": [
    "def apoptosis_cylinder(sheet, manager, death_rate, dt, radius, geom):\n",
    "    update_stem_cells(sheet)\n",
    "    dying_cells = sheet.face_df.loc[sheet.face_df[\"dying_cell\"] == 1]\n",
    "    n_dying = len(dying_cells)\n",
    "    cell_ids = list(dying_cells[\"unique_id\"])\n",
    "    n_deaths = np.random.binomial(n=n_dying, p=death_rate * dt)\n",
    "    to_kill = np.random.choice(cell_ids, size=n_deaths, replace=False)\n",
    "\n",
    "    for cell_id in to_kill:\n",
    "        cell_idx = int(sheet.face_df[sheet.face_df[\"unique_id\"] == cell_id].index[0])\n",
    "        # if sheet.face_df.loc[cell_idx, \"boundary\"] == 0:\n",
    "        vertex = remove_face(sheet, cell_idx)\n",
    "        # else:\n",
    "        #     vertex = drop_face(sheet, cell_idx, geom)\n",
    "        # split_vert(sheet, vertex)\n",
    "    manager.append(apoptosis_cylinder, death_rate=death_rate, dt=dt, radius=radius, geom=geom)\n",
    "    fix_points_cylinder(sheet, radius=radius)"
   ]
  },
  {
   "cell_type": "code",
   "execution_count": 5,
   "id": "54d0d64e4891cdb1",
   "metadata": {
    "ExecuteTime": {
     "end_time": "2025-08-06T17:20:51.856206Z",
     "start_time": "2025-08-06T17:20:51.854496Z"
    }
   },
   "outputs": [],
   "source": [
    "def auto_correlated_tension(sheet, manager, sigma, phi):\n",
    "    \"\"\"\n",
    "    Parameters:\n",
    "    sheet: tyssue.Sheet object\n",
    "    manager: EventManager object\n",
    "    sigma: float, standard deviation\n",
    "    phi: float, autocorrelation factor between 0 and 1 (AR(1) autocorrelation factor)\n",
    "        closer to 1 means stronger correlation\n",
    "    Returns:\n",
    "    updates sheet.edge_df[\"line_tension\"]\n",
    "    \"\"\"\n",
    "    noise = np.random.normal(loc=0, scale=sigma, size=len(sheet.edge_df[\"line_tension\"]))\n",
    "    sheet.edge_df[\"line_tension\"] =  phi * sheet.edge_df[\"line_tension\"] + noise\n",
    "    manager.append(auto_correlated_tension, sigma=sigma, phi=phi)"
   ]
  },
  {
   "cell_type": "code",
   "execution_count": 6,
   "id": "60705e2eb2201589",
   "metadata": {
    "ExecuteTime": {
     "end_time": "2025-08-06T17:20:51.860811Z",
     "start_time": "2025-08-06T17:20:51.859242Z"
    }
   },
   "outputs": [],
   "source": [
    "def update_stem_cells(eptm):\n",
    "    eptm.face_df['stem_cell'] = 0\n",
    "    eptm.face_df['dying_cell'] = 0\n",
    "    eptm.face_df.loc[(eptm.face_df[\"boundary\"] != 1) & (eptm.face_df[\"z\"] < 1), \"stem_cell\"] = 1\n",
    "    eptm.face_df.loc[(eptm.face_df[\"z\"] > 1), \"dying_cell\"] = 1"
   ]
  },
  {
   "cell_type": "code",
   "execution_count": 7,
   "id": "2f62a096c47f87ec",
   "metadata": {
    "ExecuteTime": {
     "end_time": "2025-08-06T17:20:52.793913Z",
     "start_time": "2025-08-06T17:20:51.863901Z"
    }
   },
   "outputs": [
    {
     "name": "stderr",
     "output_type": "stream",
     "text": [
      "/Users/tasnifrahman/PycharmProjects/vivatyssue/src/tyssue/generation/modifiers.py:193: FutureWarning: The behavior of DataFrame concatenation with empty or all-NA entries is deprecated. In a future version, this will no longer exclude empty or all-NA columns when determining the result dtypes. To retain the old behavior, exclude the relevant entries before the concat operation.\n",
      "  sheet.edge_df = pd.concat([sheet.edge_df, anchor_edge_df], sort=True)\n"
     ]
    }
   ],
   "source": [
    "radius = 2.576\n",
    "#generate cylindrical tissue\n",
    "points_xyz = hexa_cylinder(16,30, radius = radius, noise = 0.0, capped = True)\n",
    "sheet = sheet_from_cell_centers(points_xyz)\n",
    "sheet = sheet.extract_bounding_box(z_boundary = (-10.1, 30), coords=['x', 'y', 'z'])\n",
    "sheet.sanitize(trim_borders=False)\n",
    "create_anchors(sheet)\n",
    "sheet = sheet.extract_bounding_box(z_boundary = (-10.1, 10), coords=['x', 'y', 'z'])\n",
    "sheet.sanitize(trim_borders=False)\n",
    "geom.update_all(sheet)\n",
    "sheet.network_changed = False"
   ]
  },
  {
   "cell_type": "code",
   "execution_count": 8,
   "id": "b2a668a8d325ffa2",
   "metadata": {
    "ExecuteTime": {
     "end_time": "2025-08-06T17:20:52.805772Z",
     "start_time": "2025-08-06T17:20:52.802414Z"
    }
   },
   "outputs": [
    {
     "data": {
      "text/plain": [
       "np.float64(1.0001577509936472)"
      ]
     },
     "execution_count": 8,
     "metadata": {},
     "output_type": "execute_result"
    }
   ],
   "source": [
    "sheet.face_df.loc[(sheet.face_df[\"z\"]<8) & (sheet.face_df[\"z\"]>-8), \"area\"].mean()"
   ]
  },
  {
   "cell_type": "code",
   "execution_count": 9,
   "id": "4650acebb75d0958",
   "metadata": {
    "ExecuteTime": {
     "end_time": "2025-08-06T17:20:52.827287Z",
     "start_time": "2025-08-06T17:20:52.811143Z"
    }
   },
   "outputs": [
    {
     "data": {
      "application/vnd.jupyter.widget-view+json": {
       "model_id": "3abc336ee50d42b6aa1eafd9540f1021",
       "version_major": 2,
       "version_minor": 0
      },
      "text/plain": [
       "Figure(box_center=[0.5, 0.5, 0.5], box_size=[1.0, 1.0, 1.0], camera=PerspectiveCamera(fov=45.0, position=(0.0,…"
      ]
     },
     "execution_count": 9,
     "metadata": {},
     "output_type": "execute_result"
    }
   ],
   "source": [
    "draw_specs = tyssue.config.draw.sheet_spec()\n",
    "draw_specs[\"face\"][\"visible\"] = True\n",
    "draw_specs[\"face\"][\"visibles\"] = True\n",
    "draw_specs[\"face\"][\"alpha\"] = 0.2\n",
    "ipv.clear()\n",
    "fig, mesh = sheet_view(sheet, coords=['x', 'y', 'z'], mode=\"3D\", **draw_specs)\n",
    "ipv.pylab.xyzlabel(\"x-axis\", \"y-axis\", \"z-axis\")\n",
    "ipv.pylab.style.axes_on()\n",
    "fig"
   ]
  },
  {
   "cell_type": "code",
   "execution_count": 10,
   "id": "e221d4db4951b65d",
   "metadata": {
    "ExecuteTime": {
     "end_time": "2025-08-06T17:20:52.843002Z",
     "start_time": "2025-08-06T17:20:52.841533Z"
    }
   },
   "outputs": [],
   "source": [
    "#generate model\n",
    "model = model_factory_vessel([\n",
    "    effectors.LineTension,\n",
    "    effectors.FaceAreaElasticity,\n",
    "    effectors.PerimeterElasticity,\n",
    "], effectors.FaceAreaElasticity)"
   ]
  },
  {
   "cell_type": "code",
   "execution_count": 11,
   "id": "76a86fee7625f924",
   "metadata": {
    "ExecuteTime": {
     "end_time": "2025-08-06T17:20:52.878932Z",
     "start_time": "2025-08-06T17:20:52.856128Z"
    }
   },
   "outputs": [],
   "source": [
    "#set model parameters\n",
    "sheet.face_df[\"area_elasticity\"] = 1\n",
    "sheet.face_df[\"prefered_area\"] = 1\n",
    "sheet.face_df[\"perimeter_elasticity\"] = 1\n",
    "sheet.face_df[\"prefered_perimeter\"] = 3.5\n",
    "sheet.edge_df[\"line_tension\"] = np.random.normal(loc=0, scale=0.01, size=len(sheet.edge_df))\n",
    "sheet.edge_df[\"is_active\"] = 1\n",
    "sheet.vert_df[\"viscosity\"] = 5\n",
    "sheet.vert_df[\"prefered_deviation\"] = 0\n",
    "sheet.vert_df[\"surface_elasticity\"] = 5\n",
    "sheet.settings[\"threshold_length\"] = 0.1\n",
    "geom.update_all(sheet)"
   ]
  },
  {
   "cell_type": "code",
   "execution_count": 12,
   "id": "3010b76307f833b",
   "metadata": {
    "ExecuteTime": {
     "end_time": "2025-08-06T17:20:52.896590Z",
     "start_time": "2025-08-06T17:20:52.894109Z"
    }
   },
   "outputs": [
    {
     "data": {
      "text/plain": [
       "edge\n",
       "0       123\n",
       "1       123\n",
       "2       123\n",
       "3       123\n",
       "4       123\n",
       "       ... \n",
       "1915    284\n",
       "1916    284\n",
       "1917    284\n",
       "1918    284\n",
       "1919     68\n",
       "Name: face, Length: 1920, dtype: int64"
      ]
     },
     "execution_count": 12,
     "metadata": {},
     "output_type": "execute_result"
    }
   ],
   "source": [
    "sheet.edge_df[\"face\"]"
   ]
  },
  {
   "cell_type": "code",
   "execution_count": 13,
   "id": "73448ff2ab84403",
   "metadata": {
    "ExecuteTime": {
     "end_time": "2025-08-06T17:20:52.927269Z",
     "start_time": "2025-08-06T17:20:52.923378Z"
    }
   },
   "outputs": [],
   "source": [
    "history = History(sheet)"
   ]
  },
  {
   "cell_type": "code",
   "execution_count": 14,
   "id": "51a25973-3e63-491a-a2ea-05afe8a1fd4c",
   "metadata": {},
   "outputs": [],
   "source": [
    "#set time-step\n",
    "dt=0.1"
   ]
  },
  {
   "cell_type": "code",
   "execution_count": 15,
   "id": "ede225a408712e92",
   "metadata": {
    "ExecuteTime": {
     "end_time": "2025-08-06T17:20:52.949778Z",
     "start_time": "2025-08-06T17:20:52.948050Z"
    }
   },
   "outputs": [],
   "source": [
    "#initialize manager and add division and apoptosis\n",
    "#set division and apoptosis parameters\n",
    "manager = EventManager()\n",
    "manager.append(divide_cylinder, geom=geom, division_rate=0.001, dt=dt, radius=radius)\n",
    "manager.append(apoptosis_cylinder, death_rate=0.001, dt=dt, radius=radius, geom=geom)\n",
    "manager.append(auto_correlated_tension, sigma = 0.01, phi=0.5)"
   ]
  },
  {
   "cell_type": "code",
   "execution_count": 16,
   "id": "b72132728919cb1f",
   "metadata": {
    "ExecuteTime": {
     "end_time": "2025-08-06T17:20:52.974316Z",
     "start_time": "2025-08-06T17:20:52.972594Z"
    }
   },
   "outputs": [],
   "source": [
    "#initialize solver\n",
    "solver = EulerSolver(\n",
    "    sheet,\n",
    "    geom,\n",
    "    model,\n",
    "    history=history,\n",
    "    auto_reconnect=True,\n",
    "    manager=manager,\n",
    ")"
   ]
  },
  {
   "cell_type": "code",
   "execution_count": 17,
   "id": "f676b918f00c4e1c",
   "metadata": {
    "ExecuteTime": {
     "end_time": "2025-08-06T17:20:52.981900Z",
     "start_time": "2025-08-06T17:20:52.979599Z"
    }
   },
   "outputs": [
    {
     "data": {
      "text/plain": [
       "edge\n",
       "0       1\n",
       "1       1\n",
       "2       1\n",
       "3       1\n",
       "4       1\n",
       "       ..\n",
       "1915    1\n",
       "1916    1\n",
       "1917    1\n",
       "1918    1\n",
       "1919    1\n",
       "Name: is_active, Length: 1920, dtype: int64"
      ]
     },
     "execution_count": 17,
     "metadata": {},
     "output_type": "execute_result"
    }
   ],
   "source": [
    "sheet.edge_df[\"is_active\"]"
   ]
  },
  {
   "cell_type": "code",
   "execution_count": null,
   "id": "2c1282746ec53ce6",
   "metadata": {
    "ExecuteTime": {
     "end_time": "2025-08-06T17:20:58.292505Z",
     "start_time": "2025-08-06T17:20:53.007259Z"
    },
    "scrolled": true
   },
   "outputs": [],
   "source": [
    "#set time variables\n",
    "dt = dt\n",
    "tf = 600\n",
    "sheet.settings[\"dt\"] = dt\n",
    "sheet.settings[\"p_4\"] = 1/(dt)\n",
    "sheet.settings[\"p_5p\"] = 1/(dt)\n",
    "#run simulation\n",
    "start = time.time()\n",
    "res = solver.solve(tf=tf, dt = dt)\n",
    "print(f\"Time Elapsed: {time.time()-start}\")"
   ]
  },
  {
   "cell_type": "code",
   "execution_count": null,
   "id": "1bff12b7-ad88-429f-b552-32cca82cfe5a",
   "metadata": {
    "ExecuteTime": {
     "end_time": "2025-08-06T17:20:58.293709Z",
     "start_time": "2025-08-05T16:53:26.195590Z"
    }
   },
   "outputs": [],
   "source": [
    "sheet.edge_df"
   ]
  },
  {
   "cell_type": "code",
   "execution_count": null,
   "id": "8574a3643a81de94",
   "metadata": {
    "ExecuteTime": {
     "end_time": "2025-08-06T17:20:58.294470Z",
     "start_time": "2025-08-06T17:06:00.618853Z"
    }
   },
   "outputs": [],
   "source": [
    "ipv.clear()"
   ]
  },
  {
   "cell_type": "code",
   "execution_count": null,
   "id": "403787658ae3d684",
   "metadata": {
    "ExecuteTime": {
     "end_time": "2025-08-06T17:20:58.294771Z",
     "start_time": "2025-08-06T17:06:01.068347Z"
    }
   },
   "outputs": [],
   "source": [
    "ipv.clear()\n",
    "browse_history(history,**draw_specs)"
   ]
  },
  {
   "cell_type": "code",
   "execution_count": null,
   "id": "ae478934d3197968",
   "metadata": {
    "ExecuteTime": {
     "end_time": "2025-08-06T17:20:58.300143Z",
     "start_time": "2025-08-05T16:53:26.349153Z"
    }
   },
   "outputs": [],
   "source": [
    "len(sheet.face_df)"
   ]
  },
  {
   "cell_type": "code",
   "execution_count": null,
   "id": "c4457c2572194684",
   "metadata": {
    "ExecuteTime": {
     "end_time": "2025-08-06T17:20:58.300935Z",
     "start_time": "2025-08-06T17:03:09.697809Z"
    }
   },
   "outputs": [],
   "source": [
    "sheet.edge_df[\"is_active\"]"
   ]
  },
  {
   "cell_type": "code",
   "execution_count": null,
   "id": "b037b797c44fc4d3",
   "metadata": {
    "ExecuteTime": {
     "end_time": "2025-08-06T17:20:58.302683Z",
     "start_time": "2025-08-05T16:58:37.957170Z"
    }
   },
   "outputs": [],
   "source": [
    "ipv.clear()\n",
    "fig, mesh = sheet_view(sheet, coords=['x', 'y', 'z'], mode=\"3D\", **draw_specs)\n",
    "ipv.pylab.xyzlabel(\"x-axis\", \"y-axis\", \"z-axis\")\n",
    "ipv.pylab.style.axes_on()\n",
    "fig"
   ]
  },
  {
   "cell_type": "code",
   "execution_count": null,
   "id": "c634e8c143ef985d",
   "metadata": {},
   "outputs": [],
   "source": [
    "sheet1 = history.retrieve(0.0)"
   ]
  },
  {
   "cell_type": "code",
   "execution_count": null,
   "id": "5f7fa8cf-03a1-4eb1-a494-fdcc3dd75061",
   "metadata": {},
   "outputs": [],
   "source": [
    "sheet.edge_df"
   ]
  },
  {
   "cell_type": "code",
   "execution_count": null,
   "id": "fb1a9b32-c88d-46a2-bf07-7244cd16e934",
   "metadata": {},
   "outputs": [],
   "source": [
    "ipv.clear()\n",
    "browse_history(history, **draw_specs)"
   ]
  },
  {
   "cell_type": "code",
   "execution_count": null,
   "id": "7461b868-0f83-4f10-a32a-9cc4d9c1f809",
   "metadata": {},
   "outputs": [],
   "source": []
  }
 ],
 "metadata": {
  "kernelspec": {
   "display_name": "Python 3 (ipykernel)",
   "language": "python",
   "name": "python3"
  },
  "language_info": {
   "codemirror_mode": {
    "name": "ipython",
    "version": 3
   },
   "file_extension": ".py",
   "mimetype": "text/x-python",
   "name": "python",
   "nbconvert_exporter": "python",
   "pygments_lexer": "ipython3",
   "version": "3.12.11"
  }
 },
 "nbformat": 4,
 "nbformat_minor": 5
}
